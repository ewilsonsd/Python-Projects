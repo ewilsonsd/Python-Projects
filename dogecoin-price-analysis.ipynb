{
 "cells": [
  {
   "cell_type": "markdown",
   "id": "iraqi-parameter",
   "metadata": {
    "papermill": {
     "duration": 0.032487,
     "end_time": "2021-04-09T20:54:22.661487",
     "exception": false,
     "start_time": "2021-04-09T20:54:22.629000",
     "status": "completed"
    },
    "tags": []
   },
   "source": [
    "# Dogecoin Price Analysis\n"
   ]
  },
  {
   "cell_type": "markdown",
   "id": "favorite-helmet",
   "metadata": {
    "papermill": {
     "duration": 0.030131,
     "end_time": "2021-04-09T20:54:22.723972",
     "exception": false,
     "start_time": "2021-04-09T20:54:22.693841",
     "status": "completed"
    },
    "tags": []
   },
   "source": [
    "![](https://image.cnbcfm.com/api/v1/image/106836865-1612779436680-gettyimages-1299388491-yn_dogecoinillustration_011.jpeg?v=1612779511&w=678&h=381)"
   ]
  },
  {
   "cell_type": "markdown",
   "id": "radio-advance",
   "metadata": {
    "papermill": {
     "duration": 0.030442,
     "end_time": "2021-04-09T20:54:22.785875",
     "exception": false,
     "start_time": "2021-04-09T20:54:22.755433",
     "status": "completed"
    },
    "tags": []
   },
   "source": [
    "By Eric Wilson"
   ]
  },
  {
   "cell_type": "markdown",
   "id": "false-surfing",
   "metadata": {
    "papermill": {
     "duration": 0.0302,
     "end_time": "2021-04-09T20:54:22.846924",
     "exception": false,
     "start_time": "2021-04-09T20:54:22.816724",
     "status": "completed"
    },
    "tags": []
   },
   "source": [
    "Cryptocurrency - is it the precious metals of this millenium, or just another passing fad, to be traded, hoarded, and then sold off at yard sales for $1 a piece, like the beanie babies once Y2K passed? \n",
    "\n",
    "Maybe I'm late to the game, but I've heard an increasing number of people talking about Dogecoin. Let's take a look at this data, graciously available on Kaggle (thank you to Dhruvil Dave), and see how Dogecoin has evolved."
   ]
  },
  {
   "cell_type": "markdown",
   "id": "favorite-boating",
   "metadata": {
    "papermill": {
     "duration": 0.030934,
     "end_time": "2021-04-09T20:54:22.909082",
     "exception": false,
     "start_time": "2021-04-09T20:54:22.878148",
     "status": "completed"
    },
    "tags": []
   },
   "source": [
    "### Importing Libraries and Data"
   ]
  },
  {
   "cell_type": "code",
   "execution_count": 1,
   "id": "another-netscape",
   "metadata": {
    "execution": {
     "iopub.execute_input": "2021-04-09T20:54:22.974490Z",
     "iopub.status.busy": "2021-04-09T20:54:22.973392Z",
     "iopub.status.idle": "2021-04-09T20:54:22.977431Z",
     "shell.execute_reply": "2021-04-09T20:54:22.977945Z"
    },
    "papermill": {
     "duration": 0.038529,
     "end_time": "2021-04-09T20:54:22.978205",
     "exception": false,
     "start_time": "2021-04-09T20:54:22.939676",
     "status": "completed"
    },
    "tags": []
   },
   "outputs": [],
   "source": [
    "import pandas as pd\n",
    "import numpy as np\n",
    "import matplotlib.pyplot as plt"
   ]
  },
  {
   "cell_type": "code",
   "execution_count": 2,
   "id": "psychological-edition",
   "metadata": {
    "execution": {
     "iopub.execute_input": "2021-04-09T20:54:23.044020Z",
     "iopub.status.busy": "2021-04-09T20:54:23.043394Z",
     "iopub.status.idle": "2021-04-09T20:54:23.096817Z",
     "shell.execute_reply": "2021-04-09T20:54:23.096261Z"
    },
    "papermill": {
     "duration": 0.087944,
     "end_time": "2021-04-09T20:54:23.096955",
     "exception": false,
     "start_time": "2021-04-09T20:54:23.009011",
     "status": "completed"
    },
    "tags": []
   },
   "outputs": [
    {
     "data": {
      "text/html": [
       "<div>\n",
       "<style scoped>\n",
       "    .dataframe tbody tr th:only-of-type {\n",
       "        vertical-align: middle;\n",
       "    }\n",
       "\n",
       "    .dataframe tbody tr th {\n",
       "        vertical-align: top;\n",
       "    }\n",
       "\n",
       "    .dataframe thead th {\n",
       "        text-align: right;\n",
       "    }\n",
       "</style>\n",
       "<table border=\"1\" class=\"dataframe\">\n",
       "  <thead>\n",
       "    <tr style=\"text-align: right;\">\n",
       "      <th></th>\n",
       "      <th>Date</th>\n",
       "      <th>Open</th>\n",
       "      <th>High</th>\n",
       "      <th>Low</th>\n",
       "      <th>Close</th>\n",
       "      <th>Adj Close</th>\n",
       "      <th>Volume</th>\n",
       "    </tr>\n",
       "  </thead>\n",
       "  <tbody>\n",
       "    <tr>\n",
       "      <th>0</th>\n",
       "      <td>2014-09-17</td>\n",
       "      <td>0.000293</td>\n",
       "      <td>0.000299</td>\n",
       "      <td>0.000260</td>\n",
       "      <td>0.000268</td>\n",
       "      <td>0.000268</td>\n",
       "      <td>1463600.0</td>\n",
       "    </tr>\n",
       "    <tr>\n",
       "      <th>1</th>\n",
       "      <td>2014-09-18</td>\n",
       "      <td>0.000268</td>\n",
       "      <td>0.000325</td>\n",
       "      <td>0.000267</td>\n",
       "      <td>0.000298</td>\n",
       "      <td>0.000298</td>\n",
       "      <td>2215910.0</td>\n",
       "    </tr>\n",
       "    <tr>\n",
       "      <th>2</th>\n",
       "      <td>2014-09-19</td>\n",
       "      <td>0.000298</td>\n",
       "      <td>0.000307</td>\n",
       "      <td>0.000275</td>\n",
       "      <td>0.000277</td>\n",
       "      <td>0.000277</td>\n",
       "      <td>883563.0</td>\n",
       "    </tr>\n",
       "    <tr>\n",
       "      <th>3</th>\n",
       "      <td>2014-09-20</td>\n",
       "      <td>0.000276</td>\n",
       "      <td>0.000310</td>\n",
       "      <td>0.000267</td>\n",
       "      <td>0.000292</td>\n",
       "      <td>0.000292</td>\n",
       "      <td>993004.0</td>\n",
       "    </tr>\n",
       "    <tr>\n",
       "      <th>4</th>\n",
       "      <td>2014-09-21</td>\n",
       "      <td>0.000293</td>\n",
       "      <td>0.000299</td>\n",
       "      <td>0.000284</td>\n",
       "      <td>0.000288</td>\n",
       "      <td>0.000288</td>\n",
       "      <td>539140.0</td>\n",
       "    </tr>\n",
       "  </tbody>\n",
       "</table>\n",
       "</div>"
      ],
      "text/plain": [
       "         Date      Open      High       Low     Close  Adj Close     Volume\n",
       "0  2014-09-17  0.000293  0.000299  0.000260  0.000268   0.000268  1463600.0\n",
       "1  2014-09-18  0.000268  0.000325  0.000267  0.000298   0.000298  2215910.0\n",
       "2  2014-09-19  0.000298  0.000307  0.000275  0.000277   0.000277   883563.0\n",
       "3  2014-09-20  0.000276  0.000310  0.000267  0.000292   0.000292   993004.0\n",
       "4  2014-09-21  0.000293  0.000299  0.000284  0.000288   0.000288   539140.0"
      ]
     },
     "execution_count": 2,
     "metadata": {},
     "output_type": "execute_result"
    }
   ],
   "source": [
    "doge = pd.read_csv('../input/dogecoin-historical-data/DOGE-USD.csv')\n",
    "doge.head()"
   ]
  },
  {
   "cell_type": "markdown",
   "id": "defined-farming",
   "metadata": {
    "papermill": {
     "duration": 0.031258,
     "end_time": "2021-04-09T20:54:23.160729",
     "exception": false,
     "start_time": "2021-04-09T20:54:23.129471",
     "status": "completed"
    },
    "tags": []
   },
   "source": [
    "Close and Adj Close seem to be the same, so I'm going to drop Adj Close to minimize columns. Let's also change our index to the date."
   ]
  },
  {
   "cell_type": "code",
   "execution_count": 3,
   "id": "potential-money",
   "metadata": {
    "execution": {
     "iopub.execute_input": "2021-04-09T20:54:23.230569Z",
     "iopub.status.busy": "2021-04-09T20:54:23.229921Z",
     "iopub.status.idle": "2021-04-09T20:54:23.233468Z",
     "shell.execute_reply": "2021-04-09T20:54:23.232930Z"
    },
    "papermill": {
     "duration": 0.041586,
     "end_time": "2021-04-09T20:54:23.233628",
     "exception": false,
     "start_time": "2021-04-09T20:54:23.192042",
     "status": "completed"
    },
    "tags": []
   },
   "outputs": [],
   "source": [
    "doge = doge.set_index('Date')\n",
    "doge = doge.drop(columns = ['Adj Close'])"
   ]
  },
  {
   "cell_type": "markdown",
   "id": "imposed-monitoring",
   "metadata": {
    "papermill": {
     "duration": 0.031368,
     "end_time": "2021-04-09T20:54:23.296686",
     "exception": false,
     "start_time": "2021-04-09T20:54:23.265318",
     "status": "completed"
    },
    "tags": []
   },
   "source": [
    "### Data Cleaning"
   ]
  },
  {
   "cell_type": "markdown",
   "id": "meaning-price",
   "metadata": {
    "papermill": {
     "duration": 0.031498,
     "end_time": "2021-04-09T20:54:23.360283",
     "exception": false,
     "start_time": "2021-04-09T20:54:23.328785",
     "status": "completed"
    },
    "tags": []
   },
   "source": [
    "Let's check if there is any missing data."
   ]
  },
  {
   "cell_type": "code",
   "execution_count": 4,
   "id": "canadian-gamma",
   "metadata": {
    "execution": {
     "iopub.execute_input": "2021-04-09T20:54:23.427225Z",
     "iopub.status.busy": "2021-04-09T20:54:23.426288Z",
     "iopub.status.idle": "2021-04-09T20:54:23.433810Z",
     "shell.execute_reply": "2021-04-09T20:54:23.434248Z"
    },
    "papermill": {
     "duration": 0.042594,
     "end_time": "2021-04-09T20:54:23.434417",
     "exception": false,
     "start_time": "2021-04-09T20:54:23.391823",
     "status": "completed"
    },
    "tags": []
   },
   "outputs": [
    {
     "data": {
      "text/plain": [
       "Open      4\n",
       "High      4\n",
       "Low       4\n",
       "Close     4\n",
       "Volume    4\n",
       "dtype: int64"
      ]
     },
     "execution_count": 4,
     "metadata": {},
     "output_type": "execute_result"
    }
   ],
   "source": [
    "doge.isna().sum()"
   ]
  },
  {
   "cell_type": "markdown",
   "id": "discrete-beaver",
   "metadata": {
    "papermill": {
     "duration": 0.031879,
     "end_time": "2021-04-09T20:54:23.498298",
     "exception": false,
     "start_time": "2021-04-09T20:54:23.466419",
     "status": "completed"
    },
    "tags": []
   },
   "source": [
    "Each column has an equal amount of missing values - let's explore that further. With luck, they will all belong to the same dates (a day is missing all data, rather than several just missing a piece or two)."
   ]
  },
  {
   "cell_type": "code",
   "execution_count": 5,
   "id": "interesting-assets",
   "metadata": {
    "execution": {
     "iopub.execute_input": "2021-04-09T20:54:23.566170Z",
     "iopub.status.busy": "2021-04-09T20:54:23.565236Z",
     "iopub.status.idle": "2021-04-09T20:54:23.578908Z",
     "shell.execute_reply": "2021-04-09T20:54:23.578283Z"
    },
    "papermill": {
     "duration": 0.048443,
     "end_time": "2021-04-09T20:54:23.579046",
     "exception": false,
     "start_time": "2021-04-09T20:54:23.530603",
     "status": "completed"
    },
    "tags": []
   },
   "outputs": [
    {
     "data": {
      "text/html": [
       "<div>\n",
       "<style scoped>\n",
       "    .dataframe tbody tr th:only-of-type {\n",
       "        vertical-align: middle;\n",
       "    }\n",
       "\n",
       "    .dataframe tbody tr th {\n",
       "        vertical-align: top;\n",
       "    }\n",
       "\n",
       "    .dataframe thead th {\n",
       "        text-align: right;\n",
       "    }\n",
       "</style>\n",
       "<table border=\"1\" class=\"dataframe\">\n",
       "  <thead>\n",
       "    <tr style=\"text-align: right;\">\n",
       "      <th></th>\n",
       "      <th>Open</th>\n",
       "      <th>High</th>\n",
       "      <th>Low</th>\n",
       "      <th>Close</th>\n",
       "      <th>Volume</th>\n",
       "    </tr>\n",
       "    <tr>\n",
       "      <th>Date</th>\n",
       "      <th></th>\n",
       "      <th></th>\n",
       "      <th></th>\n",
       "      <th></th>\n",
       "      <th></th>\n",
       "    </tr>\n",
       "  </thead>\n",
       "  <tbody>\n",
       "    <tr>\n",
       "      <th>2020-04-17</th>\n",
       "      <td>NaN</td>\n",
       "      <td>NaN</td>\n",
       "      <td>NaN</td>\n",
       "      <td>NaN</td>\n",
       "      <td>NaN</td>\n",
       "    </tr>\n",
       "    <tr>\n",
       "      <th>2020-10-09</th>\n",
       "      <td>NaN</td>\n",
       "      <td>NaN</td>\n",
       "      <td>NaN</td>\n",
       "      <td>NaN</td>\n",
       "      <td>NaN</td>\n",
       "    </tr>\n",
       "    <tr>\n",
       "      <th>2020-10-12</th>\n",
       "      <td>NaN</td>\n",
       "      <td>NaN</td>\n",
       "      <td>NaN</td>\n",
       "      <td>NaN</td>\n",
       "      <td>NaN</td>\n",
       "    </tr>\n",
       "    <tr>\n",
       "      <th>2020-10-13</th>\n",
       "      <td>NaN</td>\n",
       "      <td>NaN</td>\n",
       "      <td>NaN</td>\n",
       "      <td>NaN</td>\n",
       "      <td>NaN</td>\n",
       "    </tr>\n",
       "  </tbody>\n",
       "</table>\n",
       "</div>"
      ],
      "text/plain": [
       "            Open  High  Low  Close  Volume\n",
       "Date                                      \n",
       "2020-04-17   NaN   NaN  NaN    NaN     NaN\n",
       "2020-10-09   NaN   NaN  NaN    NaN     NaN\n",
       "2020-10-12   NaN   NaN  NaN    NaN     NaN\n",
       "2020-10-13   NaN   NaN  NaN    NaN     NaN"
      ]
     },
     "execution_count": 5,
     "metadata": {},
     "output_type": "execute_result"
    }
   ],
   "source": [
    "nodoge = doge[pd.isnull(doge).any(axis=1)]\n",
    "nodoge"
   ]
  },
  {
   "cell_type": "markdown",
   "id": "alone-simpson",
   "metadata": {
    "papermill": {
     "duration": 0.032043,
     "end_time": "2021-04-09T20:54:23.643862",
     "exception": false,
     "start_time": "2021-04-09T20:54:23.611819",
     "status": "completed"
    },
    "tags": []
   },
   "source": [
    "Luckily, there are few dates that are missing all info. We'll save this as a seperate dataframe, just incase we need to reference it later. \n",
    "\n",
    "It is interesting that, out of the roughly 7 years of data, all missing data happened during the Covid Pandemic."
   ]
  },
  {
   "cell_type": "markdown",
   "id": "certain-theta",
   "metadata": {
    "papermill": {
     "duration": 0.032319,
     "end_time": "2021-04-09T20:54:23.708545",
     "exception": false,
     "start_time": "2021-04-09T20:54:23.676226",
     "status": "completed"
    },
    "tags": []
   },
   "source": [
    "## Data Analysis"
   ]
  },
  {
   "cell_type": "markdown",
   "id": "macro-locking",
   "metadata": {
    "papermill": {
     "duration": 0.032615,
     "end_time": "2021-04-09T20:54:23.773656",
     "exception": false,
     "start_time": "2021-04-09T20:54:23.741041",
     "status": "completed"
    },
    "tags": []
   },
   "source": [
    "### Adding Values"
   ]
  },
  {
   "cell_type": "markdown",
   "id": "prostate-occasion",
   "metadata": {
    "papermill": {
     "duration": 0.032192,
     "end_time": "2021-04-09T20:54:23.838917",
     "exception": false,
     "start_time": "2021-04-09T20:54:23.806725",
     "status": "completed"
    },
    "tags": []
   },
   "source": [
    "Let's add four values: Day Change, Day Range, Average Price, and Impact.\n",
    "\n",
    "*     Day Change will be Close minus Open, in order to show the overall change in value over the course of each day. Naturally, the higher the worth of Dogecoin, the higher the change should be expected.\n",
    "\n",
    "*     Day Range will be High minus Low, to show the volatility of Dogecoin on each day. Similar to Day Change, the higher the worth of Dogecoin, the higher volatility should be expected in terms of Day Range.\n",
    "\n",
    "*     Average Price will be a little tricky: we'll take the average of the Open, Close, High, and Low values. The term \"average\" is used loosely, due to how volatile value can be during each day.\n",
    "\n",
    "*     Impact will also be tricky; we'll multiply Average Price by the volume for the day. In theory, this will give us a standard (again using the terms \"standard\" and \"average\" loosely) value to the amount of money taking place in Dogecoin transactions in a day. "
   ]
  },
  {
   "cell_type": "code",
   "execution_count": 6,
   "id": "advised-reason",
   "metadata": {
    "execution": {
     "iopub.execute_input": "2021-04-09T20:54:23.911211Z",
     "iopub.status.busy": "2021-04-09T20:54:23.910560Z",
     "iopub.status.idle": "2021-04-09T20:54:23.944879Z",
     "shell.execute_reply": "2021-04-09T20:54:23.945482Z"
    },
    "papermill": {
     "duration": 0.074384,
     "end_time": "2021-04-09T20:54:23.945667",
     "exception": false,
     "start_time": "2021-04-09T20:54:23.871283",
     "status": "completed"
    },
    "tags": []
   },
   "outputs": [
    {
     "data": {
      "text/html": [
       "<div>\n",
       "<style scoped>\n",
       "    .dataframe tbody tr th:only-of-type {\n",
       "        vertical-align: middle;\n",
       "    }\n",
       "\n",
       "    .dataframe tbody tr th {\n",
       "        vertical-align: top;\n",
       "    }\n",
       "\n",
       "    .dataframe thead th {\n",
       "        text-align: right;\n",
       "    }\n",
       "</style>\n",
       "<table border=\"1\" class=\"dataframe\">\n",
       "  <thead>\n",
       "    <tr style=\"text-align: right;\">\n",
       "      <th></th>\n",
       "      <th>Open</th>\n",
       "      <th>High</th>\n",
       "      <th>Low</th>\n",
       "      <th>Close</th>\n",
       "      <th>Volume</th>\n",
       "      <th>DC</th>\n",
       "      <th>DR</th>\n",
       "      <th>Average</th>\n",
       "      <th>Impact</th>\n",
       "    </tr>\n",
       "    <tr>\n",
       "      <th>Date</th>\n",
       "      <th></th>\n",
       "      <th></th>\n",
       "      <th></th>\n",
       "      <th></th>\n",
       "      <th></th>\n",
       "      <th></th>\n",
       "      <th></th>\n",
       "      <th></th>\n",
       "      <th></th>\n",
       "    </tr>\n",
       "  </thead>\n",
       "  <tbody>\n",
       "    <tr>\n",
       "      <th>2014-09-17</th>\n",
       "      <td>0.000293</td>\n",
       "      <td>0.000299</td>\n",
       "      <td>0.000260</td>\n",
       "      <td>0.000268</td>\n",
       "      <td>1463600.0</td>\n",
       "      <td>-0.000025</td>\n",
       "      <td>0.000039</td>\n",
       "      <td>0.000280</td>\n",
       "      <td>409.808000</td>\n",
       "    </tr>\n",
       "    <tr>\n",
       "      <th>2014-09-18</th>\n",
       "      <td>0.000268</td>\n",
       "      <td>0.000325</td>\n",
       "      <td>0.000267</td>\n",
       "      <td>0.000298</td>\n",
       "      <td>2215910.0</td>\n",
       "      <td>0.000030</td>\n",
       "      <td>0.000058</td>\n",
       "      <td>0.000289</td>\n",
       "      <td>641.505945</td>\n",
       "    </tr>\n",
       "    <tr>\n",
       "      <th>2014-09-19</th>\n",
       "      <td>0.000298</td>\n",
       "      <td>0.000307</td>\n",
       "      <td>0.000275</td>\n",
       "      <td>0.000277</td>\n",
       "      <td>883563.0</td>\n",
       "      <td>-0.000021</td>\n",
       "      <td>0.000032</td>\n",
       "      <td>0.000289</td>\n",
       "      <td>255.570598</td>\n",
       "    </tr>\n",
       "    <tr>\n",
       "      <th>2014-09-20</th>\n",
       "      <td>0.000276</td>\n",
       "      <td>0.000310</td>\n",
       "      <td>0.000267</td>\n",
       "      <td>0.000292</td>\n",
       "      <td>993004.0</td>\n",
       "      <td>0.000016</td>\n",
       "      <td>0.000043</td>\n",
       "      <td>0.000286</td>\n",
       "      <td>284.247395</td>\n",
       "    </tr>\n",
       "    <tr>\n",
       "      <th>2014-09-21</th>\n",
       "      <td>0.000293</td>\n",
       "      <td>0.000299</td>\n",
       "      <td>0.000284</td>\n",
       "      <td>0.000288</td>\n",
       "      <td>539140.0</td>\n",
       "      <td>-0.000005</td>\n",
       "      <td>0.000015</td>\n",
       "      <td>0.000291</td>\n",
       "      <td>156.889740</td>\n",
       "    </tr>\n",
       "  </tbody>\n",
       "</table>\n",
       "</div>"
      ],
      "text/plain": [
       "                Open      High       Low     Close     Volume        DC  \\\n",
       "Date                                                                      \n",
       "2014-09-17  0.000293  0.000299  0.000260  0.000268  1463600.0 -0.000025   \n",
       "2014-09-18  0.000268  0.000325  0.000267  0.000298  2215910.0  0.000030   \n",
       "2014-09-19  0.000298  0.000307  0.000275  0.000277   883563.0 -0.000021   \n",
       "2014-09-20  0.000276  0.000310  0.000267  0.000292   993004.0  0.000016   \n",
       "2014-09-21  0.000293  0.000299  0.000284  0.000288   539140.0 -0.000005   \n",
       "\n",
       "                  DR   Average      Impact  \n",
       "Date                                        \n",
       "2014-09-17  0.000039  0.000280  409.808000  \n",
       "2014-09-18  0.000058  0.000289  641.505945  \n",
       "2014-09-19  0.000032  0.000289  255.570598  \n",
       "2014-09-20  0.000043  0.000286  284.247395  \n",
       "2014-09-21  0.000015  0.000291  156.889740  "
      ]
     },
     "execution_count": 6,
     "metadata": {},
     "output_type": "execute_result"
    }
   ],
   "source": [
    "doge2 = doge\n",
    "doge2['DC'] = doge2.Close - doge2.Open\n",
    "doge2['DR'] = doge2.High - doge2.Low\n",
    "doge2['Average'] = ((doge2.Open + doge2.Close + doge2.High + doge2.Low) / 4)\n",
    "doge2['Impact'] =  doge2.Average * doge2.Volume\n",
    "doge2.head()"
   ]
  },
  {
   "cell_type": "markdown",
   "id": "educational-services",
   "metadata": {
    "papermill": {
     "duration": 0.034316,
     "end_time": "2021-04-09T20:54:24.013250",
     "exception": false,
     "start_time": "2021-04-09T20:54:23.978934",
     "status": "completed"
    },
    "tags": []
   },
   "source": [
    "### Data Range"
   ]
  },
  {
   "cell_type": "markdown",
   "id": "infinite-phone",
   "metadata": {
    "papermill": {
     "duration": 0.033676,
     "end_time": "2021-04-09T20:54:24.080732",
     "exception": false,
     "start_time": "2021-04-09T20:54:24.047056",
     "status": "completed"
    },
    "tags": []
   },
   "source": [
    "Let's look at the distribution of data: the maximum, minimum, average, and overall spread of values in the data."
   ]
  },
  {
   "cell_type": "code",
   "execution_count": 7,
   "id": "ideal-priest",
   "metadata": {
    "execution": {
     "iopub.execute_input": "2021-04-09T20:54:24.153828Z",
     "iopub.status.busy": "2021-04-09T20:54:24.153195Z",
     "iopub.status.idle": "2021-04-09T20:54:24.193291Z",
     "shell.execute_reply": "2021-04-09T20:54:24.192805Z"
    },
    "papermill": {
     "duration": 0.078633,
     "end_time": "2021-04-09T20:54:24.193496",
     "exception": false,
     "start_time": "2021-04-09T20:54:24.114863",
     "status": "completed"
    },
    "tags": []
   },
   "outputs": [
    {
     "data": {
      "text/html": [
       "<div>\n",
       "<style scoped>\n",
       "    .dataframe tbody tr th:only-of-type {\n",
       "        vertical-align: middle;\n",
       "    }\n",
       "\n",
       "    .dataframe tbody tr th {\n",
       "        vertical-align: top;\n",
       "    }\n",
       "\n",
       "    .dataframe thead th {\n",
       "        text-align: right;\n",
       "    }\n",
       "</style>\n",
       "<table border=\"1\" class=\"dataframe\">\n",
       "  <thead>\n",
       "    <tr style=\"text-align: right;\">\n",
       "      <th></th>\n",
       "      <th>Open</th>\n",
       "      <th>High</th>\n",
       "      <th>Low</th>\n",
       "      <th>Close</th>\n",
       "      <th>Volume</th>\n",
       "      <th>DC</th>\n",
       "      <th>DR</th>\n",
       "      <th>Average</th>\n",
       "      <th>Impact</th>\n",
       "    </tr>\n",
       "  </thead>\n",
       "  <tbody>\n",
       "    <tr>\n",
       "      <th>count</th>\n",
       "      <td>2393.000000</td>\n",
       "      <td>2393.000000</td>\n",
       "      <td>2393.000000</td>\n",
       "      <td>2393.000000</td>\n",
       "      <td>2.393000e+03</td>\n",
       "      <td>2.393000e+03</td>\n",
       "      <td>2393.000000</td>\n",
       "      <td>2393.000000</td>\n",
       "      <td>2.393000e+03</td>\n",
       "    </tr>\n",
       "    <tr>\n",
       "      <th>mean</th>\n",
       "      <td>0.003517</td>\n",
       "      <td>0.003730</td>\n",
       "      <td>0.003326</td>\n",
       "      <td>0.003530</td>\n",
       "      <td>1.370523e+08</td>\n",
       "      <td>1.315963e-05</td>\n",
       "      <td>0.000405</td>\n",
       "      <td>0.003526</td>\n",
       "      <td>5.626829e+06</td>\n",
       "    </tr>\n",
       "    <tr>\n",
       "      <th>std</th>\n",
       "      <td>0.009354</td>\n",
       "      <td>0.010059</td>\n",
       "      <td>0.008749</td>\n",
       "      <td>0.009397</td>\n",
       "      <td>8.851032e+08</td>\n",
       "      <td>9.981884e-04</td>\n",
       "      <td>0.001884</td>\n",
       "      <td>0.009370</td>\n",
       "      <td>4.976991e+07</td>\n",
       "    </tr>\n",
       "    <tr>\n",
       "      <th>min</th>\n",
       "      <td>0.000087</td>\n",
       "      <td>0.000089</td>\n",
       "      <td>0.000085</td>\n",
       "      <td>0.000087</td>\n",
       "      <td>1.669500e+04</td>\n",
       "      <td>-1.862700e-02</td>\n",
       "      <td>0.000002</td>\n",
       "      <td>0.000087</td>\n",
       "      <td>1.995053e+00</td>\n",
       "    </tr>\n",
       "    <tr>\n",
       "      <th>25%</th>\n",
       "      <td>0.000224</td>\n",
       "      <td>0.000228</td>\n",
       "      <td>0.000220</td>\n",
       "      <td>0.000224</td>\n",
       "      <td>2.257060e+05</td>\n",
       "      <td>-2.000000e-05</td>\n",
       "      <td>0.000011</td>\n",
       "      <td>0.000225</td>\n",
       "      <td>4.648745e+01</td>\n",
       "    </tr>\n",
       "    <tr>\n",
       "      <th>50%</th>\n",
       "      <td>0.002041</td>\n",
       "      <td>0.002078</td>\n",
       "      <td>0.001991</td>\n",
       "      <td>0.002043</td>\n",
       "      <td>8.143520e+06</td>\n",
       "      <td>-1.000000e-06</td>\n",
       "      <td>0.000072</td>\n",
       "      <td>0.002040</td>\n",
       "      <td>2.110234e+04</td>\n",
       "    </tr>\n",
       "    <tr>\n",
       "      <th>75%</th>\n",
       "      <td>0.002906</td>\n",
       "      <td>0.002999</td>\n",
       "      <td>0.002802</td>\n",
       "      <td>0.002904</td>\n",
       "      <td>4.811798e+07</td>\n",
       "      <td>1.700000e-05</td>\n",
       "      <td>0.000193</td>\n",
       "      <td>0.002912</td>\n",
       "      <td>1.510336e+05</td>\n",
       "    </tr>\n",
       "    <tr>\n",
       "      <th>max</th>\n",
       "      <td>0.078773</td>\n",
       "      <td>0.084945</td>\n",
       "      <td>0.068525</td>\n",
       "      <td>0.078825</td>\n",
       "      <td>2.540331e+10</td>\n",
       "      <td>2.128000e-02</td>\n",
       "      <td>0.045632</td>\n",
       "      <td>0.076706</td>\n",
       "      <td>1.277850e+09</td>\n",
       "    </tr>\n",
       "  </tbody>\n",
       "</table>\n",
       "</div>"
      ],
      "text/plain": [
       "              Open         High          Low        Close        Volume  \\\n",
       "count  2393.000000  2393.000000  2393.000000  2393.000000  2.393000e+03   \n",
       "mean      0.003517     0.003730     0.003326     0.003530  1.370523e+08   \n",
       "std       0.009354     0.010059     0.008749     0.009397  8.851032e+08   \n",
       "min       0.000087     0.000089     0.000085     0.000087  1.669500e+04   \n",
       "25%       0.000224     0.000228     0.000220     0.000224  2.257060e+05   \n",
       "50%       0.002041     0.002078     0.001991     0.002043  8.143520e+06   \n",
       "75%       0.002906     0.002999     0.002802     0.002904  4.811798e+07   \n",
       "max       0.078773     0.084945     0.068525     0.078825  2.540331e+10   \n",
       "\n",
       "                 DC           DR      Average        Impact  \n",
       "count  2.393000e+03  2393.000000  2393.000000  2.393000e+03  \n",
       "mean   1.315963e-05     0.000405     0.003526  5.626829e+06  \n",
       "std    9.981884e-04     0.001884     0.009370  4.976991e+07  \n",
       "min   -1.862700e-02     0.000002     0.000087  1.995053e+00  \n",
       "25%   -2.000000e-05     0.000011     0.000225  4.648745e+01  \n",
       "50%   -1.000000e-06     0.000072     0.002040  2.110234e+04  \n",
       "75%    1.700000e-05     0.000193     0.002912  1.510336e+05  \n",
       "max    2.128000e-02     0.045632     0.076706  1.277850e+09  "
      ]
     },
     "execution_count": 7,
     "metadata": {},
     "output_type": "execute_result"
    }
   ],
   "source": [
    "doge2.describe()"
   ]
  },
  {
   "cell_type": "markdown",
   "id": "after-perfume",
   "metadata": {
    "papermill": {
     "duration": 0.033582,
     "end_time": "2021-04-09T20:54:24.261179",
     "exception": false,
     "start_time": "2021-04-09T20:54:24.227597",
     "status": "completed"
    },
    "tags": []
   },
   "source": [
    "The highest value ever recorded for Dogecoin was 8.5 cents, and the lowest was roughly .3 cents (only  slightly lower than the price at its first open). The most volatile day saw a value fluctuation of roughly 4.6 cents, which is well over half of the record high. \n",
    "\n",
    "How does the distribution of values compare next to one another? (We'll have to remove volume and impact, which exist on a different scale)"
   ]
  },
  {
   "cell_type": "code",
   "execution_count": 8,
   "id": "fatty-covering",
   "metadata": {
    "execution": {
     "iopub.execute_input": "2021-04-09T20:54:24.336712Z",
     "iopub.status.busy": "2021-04-09T20:54:24.335949Z",
     "iopub.status.idle": "2021-04-09T20:54:24.658901Z",
     "shell.execute_reply": "2021-04-09T20:54:24.658241Z"
    },
    "papermill": {
     "duration": 0.363823,
     "end_time": "2021-04-09T20:54:24.659039",
     "exception": false,
     "start_time": "2021-04-09T20:54:24.295216",
     "status": "completed"
    },
    "tags": []
   },
   "outputs": [
    {
     "data": {
      "text/plain": [
       "Text(0.5, 1.0, 'Dogecoin Value Distribution')"
      ]
     },
     "execution_count": 8,
     "metadata": {},
     "output_type": "execute_result"
    },
    {
     "data": {
      "image/png": "[encoded data removed]",
      "text/plain": [
       "<Figure size 1008x432 with 1 Axes>"
      ]
     },
     "metadata": {
      "needs_background": "light"
     },
     "output_type": "display_data"
    }
   ],
   "source": [
    "d2p = doge2[['Open', 'Close', 'High', 'Low', 'Average', 'DC', 'DR']]\n",
    "d2pp = d2p.boxplot(color = 'gray', figsize = [14, 6], notch = True)\n",
    "d2pp.set_title('Dogecoin Value Distribution', fontsize=18)"
   ]
  },
  {
   "cell_type": "markdown",
   "id": "typical-registration",
   "metadata": {
    "papermill": {
     "duration": 0.035364,
     "end_time": "2021-04-09T20:54:24.730682",
     "exception": false,
     "start_time": "2021-04-09T20:54:24.695318",
     "status": "completed"
    },
    "tags": []
   },
   "source": [
    "Statistically, the dots are outliers, accounting for less than half of one percent of all values. While the outliers show the most volatile and interesting data (everyone wants to see the big wins and losses), nearly all of the other data is contained in the small boxes / gray lines near the bottom. Let's take a look at what the data, without the outliers, looks like."
   ]
  },
  {
   "cell_type": "code",
   "execution_count": 9,
   "id": "premier-ridge",
   "metadata": {
    "execution": {
     "iopub.execute_input": "2021-04-09T20:54:24.825327Z",
     "iopub.status.busy": "2021-04-09T20:54:24.822611Z",
     "iopub.status.idle": "2021-04-09T20:54:25.067503Z",
     "shell.execute_reply": "2021-04-09T20:54:25.066865Z"
    },
    "papermill": {
     "duration": 0.301321,
     "end_time": "2021-04-09T20:54:25.067680",
     "exception": false,
     "start_time": "2021-04-09T20:54:24.766359",
     "status": "completed"
    },
    "tags": []
   },
   "outputs": [
    {
     "data": {
      "text/plain": [
       "Text(0.5, 1.0, 'Dogecoin Value Distribution Without Outliers')"
      ]
     },
     "execution_count": 9,
     "metadata": {},
     "output_type": "execute_result"
    },
    {
     "data": {
      "image/png": "[encoded data removed]",
      "text/plain": [
       "<Figure size 1008x432 with 1 Axes>"
      ]
     },
     "metadata": {
      "needs_background": "light"
     },
     "output_type": "display_data"
    }
   ],
   "source": [
    "d2pno = d2p.boxplot(color = 'black', figsize = [14, 6], notch = True, showfliers = False)\n",
    "d2pno.set_title('Dogecoin Value Distribution Without Outliers', fontsize=18)"
   ]
  },
  {
   "cell_type": "markdown",
   "id": "hundred-advertising",
   "metadata": {
    "papermill": {
     "duration": 0.03807,
     "end_time": "2021-04-09T20:54:25.143846",
     "exception": false,
     "start_time": "2021-04-09T20:54:25.105776",
     "status": "completed"
    },
    "tags": []
   },
   "source": [
    "Without the outliers, which peak around 8 cents per Dogecoin, the max range of most of the data floats around .7 cents, with an average close to .2 cents. "
   ]
  },
  {
   "cell_type": "markdown",
   "id": "attractive-commissioner",
   "metadata": {
    "papermill": {
     "duration": 0.037527,
     "end_time": "2021-04-09T20:54:25.219087",
     "exception": false,
     "start_time": "2021-04-09T20:54:25.181560",
     "status": "completed"
    },
    "tags": []
   },
   "source": [
    "### Values at Open and Close"
   ]
  },
  {
   "cell_type": "code",
   "execution_count": 10,
   "id": "royal-notebook",
   "metadata": {
    "execution": {
     "iopub.execute_input": "2021-04-09T20:54:25.302982Z",
     "iopub.status.busy": "2021-04-09T20:54:25.301985Z",
     "iopub.status.idle": "2021-04-09T20:54:25.499687Z",
     "shell.execute_reply": "2021-04-09T20:54:25.499174Z"
    },
    "papermill": {
     "duration": 0.243531,
     "end_time": "2021-04-09T20:54:25.499829",
     "exception": false,
     "start_time": "2021-04-09T20:54:25.256298",
     "status": "completed"
    },
    "tags": []
   },
   "outputs": [
    {
     "data": {
      "text/plain": [
       "Text(0.5, 1.0, 'Dogecoin Open vs Close')"
      ]
     },
     "execution_count": 10,
     "metadata": {},
     "output_type": "execute_result"
    },
    {
     "data": {
      "image/png": "[encoded data removed]",
      "text/plain": [
       "<Figure size 1008x288 with 1 Axes>"
      ]
     },
     "metadata": {
      "needs_background": "light"
     },
     "output_type": "display_data"
    }
   ],
   "source": [
    "dogeoc = doge[['Open', 'Close']]\n",
    "dogeoc = dogeoc.plot(kind='line',color = ('black', 'red'), figsize = [14, 4], fontsize = 14)\n",
    "dogeoc.set_title('Dogecoin Open vs Close', fontsize = 18)"
   ]
  },
  {
   "cell_type": "markdown",
   "id": "liked-plaza",
   "metadata": {
    "papermill": {
     "duration": 0.04128,
     "end_time": "2021-04-09T20:54:25.580178",
     "exception": false,
     "start_time": "2021-04-09T20:54:25.538898",
     "status": "completed"
    },
    "tags": []
   },
   "source": [
    "As should be expected, there is essentially no perceptable difference between opening and closing values; the closing value on a Monday is the opening value on a Tuesday. If there were discrepancies, this would probably mean there is an issue within the data.\n",
    "\n",
    "Now, let's use the added Day Change column to let the computer do the work for us, to see where the real changes are."
   ]
  },
  {
   "cell_type": "code",
   "execution_count": 11,
   "id": "fantastic-essence",
   "metadata": {
    "execution": {
     "iopub.execute_input": "2021-04-09T20:54:25.800553Z",
     "iopub.status.busy": "2021-04-09T20:54:25.792129Z",
     "iopub.status.idle": "2021-04-09T20:54:25.926627Z",
     "shell.execute_reply": "2021-04-09T20:54:25.926057Z"
    },
    "papermill": {
     "duration": 0.307519,
     "end_time": "2021-04-09T20:54:25.926765",
     "exception": false,
     "start_time": "2021-04-09T20:54:25.619246",
     "status": "completed"
    },
    "tags": []
   },
   "outputs": [
    {
     "data": {
      "text/plain": [
       "Text(0.5, 1.0, 'Daily Change in Dogecoin Values')"
      ]
     },
     "execution_count": 11,
     "metadata": {},
     "output_type": "execute_result"
    },
    {
     "data": {
      "image/png": "[encoded data removed]",
      "text/plain": [
       "<Figure size 1008x432 with 1 Axes>"
      ]
     },
     "metadata": {
      "needs_background": "light"
     },
     "output_type": "display_data"
    }
   ],
   "source": [
    "d2dc = doge2.DC.plot(kind = 'line', color = 'green', figsize = [14, 6], fontsize = 14)\n",
    "d2dc.set_title('Daily Change in Dogecoin Values', fontsize = 18)"
   ]
  },
  {
   "cell_type": "markdown",
   "id": "graduate-staff",
   "metadata": {
    "papermill": {
     "duration": 0.040575,
     "end_time": "2021-04-09T20:54:26.008267",
     "exception": false,
     "start_time": "2021-04-09T20:54:25.967692",
     "status": "completed"
    },
    "tags": []
   },
   "source": [
    "Although when the actual values are compared side by side, there is no really perceptable change, when we look at the Day Change alone, there is a surprising amount of volatility around the start of 2018, and a pretty extreme amount from late 2020 onwards.\n",
    "\n",
    ".02 as both a high and low equates to 2 cents, which is probably less than the amount of electricity it has taken to run these programs to this point. However, if a Dogecoin costed even 10 cents, that's a 20% fluctuation - if the stocks in my 401k had a daily change like that, I'd probably have nothing but gray hair."
   ]
  },
  {
   "cell_type": "markdown",
   "id": "electric-paris",
   "metadata": {
    "papermill": {
     "duration": 0.040788,
     "end_time": "2021-04-09T20:54:26.090721",
     "exception": false,
     "start_time": "2021-04-09T20:54:26.049933",
     "status": "completed"
    },
    "tags": []
   },
   "source": [
    "### Day Ranges"
   ]
  },
  {
   "cell_type": "markdown",
   "id": "speaking-shield",
   "metadata": {
    "papermill": {
     "duration": 0.054771,
     "end_time": "2021-04-09T20:54:26.186665",
     "exception": false,
     "start_time": "2021-04-09T20:54:26.131894",
     "status": "completed"
    },
    "tags": []
   },
   "source": [
    "Let's take a look at highs and lows to see if there are any \"whoa, what's happening there?\" moments for specific days (sharp peaks and / or troughs in relation to one another)."
   ]
  },
  {
   "cell_type": "code",
   "execution_count": 12,
   "id": "single-bundle",
   "metadata": {
    "execution": {
     "iopub.execute_input": "2021-04-09T20:54:26.310583Z",
     "iopub.status.busy": "2021-04-09T20:54:26.307165Z",
     "iopub.status.idle": "2021-04-09T20:54:26.479657Z",
     "shell.execute_reply": "2021-04-09T20:54:26.479007Z"
    },
    "papermill": {
     "duration": 0.24523,
     "end_time": "2021-04-09T20:54:26.479818",
     "exception": false,
     "start_time": "2021-04-09T20:54:26.234588",
     "status": "completed"
    },
    "tags": []
   },
   "outputs": [
    {
     "data": {
      "text/plain": [
       "Text(0.5, 1.0, 'Dogecoin High vs Low')"
      ]
     },
     "execution_count": 12,
     "metadata": {},
     "output_type": "execute_result"
    },
    {
     "data": {
      "image/png": "[encoded data removed]",
      "text/plain": [
       "<Figure size 1008x288 with 1 Axes>"
      ]
     },
     "metadata": {
      "needs_background": "light"
     },
     "output_type": "display_data"
    }
   ],
   "source": [
    "dogehl = doge[['High', 'Low']]\n",
    "dogehl = dogehl.plot(kind='line',color = ('royalblue', 'black'), figsize = [14, 4], fontsize = 14)\n",
    "dogehl.set_title('Dogecoin High vs Low', fontsize = 18)"
   ]
  },
  {
   "cell_type": "markdown",
   "id": "varied-supply",
   "metadata": {
    "papermill": {
     "duration": 0.04426,
     "end_time": "2021-04-09T20:54:26.567101",
     "exception": false,
     "start_time": "2021-04-09T20:54:26.522841",
     "status": "completed"
    },
    "tags": []
   },
   "source": [
    "The range is much more perceptable here than with the daily change. However, to really emphasize the changes, let's look at that added value from earlier."
   ]
  },
  {
   "cell_type": "code",
   "execution_count": 13,
   "id": "thrown-gazette",
   "metadata": {
    "execution": {
     "iopub.execute_input": "2021-04-09T20:54:26.690658Z",
     "iopub.status.busy": "2021-04-09T20:54:26.689826Z",
     "iopub.status.idle": "2021-04-09T20:54:26.852680Z",
     "shell.execute_reply": "2021-04-09T20:54:26.852136Z"
    },
    "papermill": {
     "duration": 0.221804,
     "end_time": "2021-04-09T20:54:26.852832",
     "exception": false,
     "start_time": "2021-04-09T20:54:26.631028",
     "status": "completed"
    },
    "tags": []
   },
   "outputs": [
    {
     "data": {
      "text/plain": [
       "Text(0.5, 1.0, 'Daily Range of Dogecoin')"
      ]
     },
     "execution_count": 13,
     "metadata": {},
     "output_type": "execute_result"
    },
    {
     "data": {
      "image/png": "[encoded data removed]",
      "text/plain": [
       "<Figure size 1008x288 with 1 Axes>"
      ]
     },
     "metadata": {
      "needs_background": "light"
     },
     "output_type": "display_data"
    }
   ],
   "source": [
    "d2dr = doge2.DR.plot(kind = 'line', color = 'green', figsize = [14, 4], fontsize = 14)\n",
    "d2dr.set_title('Daily Range of Dogecoin', fontsize = 18)"
   ]
  },
  {
   "cell_type": "markdown",
   "id": "veterinary-still",
   "metadata": {
    "papermill": {
     "duration": 0.047216,
     "end_time": "2021-04-09T20:54:26.945953",
     "exception": false,
     "start_time": "2021-04-09T20:54:26.898737",
     "status": "completed"
    },
    "tags": []
   },
   "source": [
    "### Transaction Amount and Worth"
   ]
  },
  {
   "cell_type": "code",
   "execution_count": 14,
   "id": "premium-version",
   "metadata": {
    "execution": {
     "iopub.execute_input": "2021-04-09T20:54:27.064258Z",
     "iopub.status.busy": "2021-04-09T20:54:27.058918Z",
     "iopub.status.idle": "2021-04-09T20:54:27.200602Z",
     "shell.execute_reply": "2021-04-09T20:54:27.199964Z"
    },
    "papermill": {
     "duration": 0.209367,
     "end_time": "2021-04-09T20:54:27.200741",
     "exception": false,
     "start_time": "2021-04-09T20:54:26.991374",
     "status": "completed"
    },
    "tags": []
   },
   "outputs": [
    {
     "data": {
      "text/plain": [
       "Text(0.5, 1.0, 'Daily Volume of Dogecoin Transactions (in 10s of Billions)')"
      ]
     },
     "execution_count": 14,
     "metadata": {},
     "output_type": "execute_result"
    },
    {
     "data": {
      "image/png": "[encoded data removed]",
      "text/plain": [
       "<Figure size 1008x288 with 1 Axes>"
      ]
     },
     "metadata": {
      "needs_background": "light"
     },
     "output_type": "display_data"
    }
   ],
   "source": [
    "d2v = doge2.Volume.plot(kind = 'line', color = 'black', figsize = [14, 4], fontsize = 14)\n",
    "d2v.set_title('Daily Volume of Dogecoin Transactions (in 10s of Billions)', fontsize = 18)"
   ]
  },
  {
   "cell_type": "code",
   "execution_count": 15,
   "id": "fatty-cloud",
   "metadata": {
    "execution": {
     "iopub.execute_input": "2021-04-09T20:54:27.326875Z",
     "iopub.status.busy": "2021-04-09T20:54:27.321026Z",
     "iopub.status.idle": "2021-04-09T20:54:27.460891Z",
     "shell.execute_reply": "2021-04-09T20:54:27.460370Z"
    },
    "papermill": {
     "duration": 0.213859,
     "end_time": "2021-04-09T20:54:27.461044",
     "exception": false,
     "start_time": "2021-04-09T20:54:27.247185",
     "status": "completed"
    },
    "tags": []
   },
   "outputs": [
    {
     "data": {
      "text/plain": [
       "Text(0.5, 1.0, 'Daily Impact of Dogecoin Transactions, in Billions')"
      ]
     },
     "execution_count": 15,
     "metadata": {},
     "output_type": "execute_result"
    },
    {
     "data": {
      "image/png": "[encoded data removed]",
      "text/plain": [
       "<Figure size 1008x288 with 1 Axes>"
      ]
     },
     "metadata": {
      "needs_background": "light"
     },
     "output_type": "display_data"
    }
   ],
   "source": [
    "d2i = doge2.Impact.plot(kind = 'line', color = 'gold', figsize = [14, 4], fontsize = 14)\n",
    "d2i.set_title('Daily Impact of Dogecoin Transactions, in Billions', fontsize = 18)"
   ]
  },
  {
   "cell_type": "markdown",
   "id": "directed-bradford",
   "metadata": {
    "papermill": {
     "duration": 0.047117,
     "end_time": "2021-04-09T20:54:27.555795",
     "exception": false,
     "start_time": "2021-04-09T20:54:27.508678",
     "status": "completed"
    },
    "tags": []
   },
   "source": [
    "In spite of Dogecoin not even reaching 25 cents in value at peak (enough for one round of Street Fighter, in an arcade, in 1998), it has still managed to see over 25 billion transactions in a single day, for a total value of money being exchanged at over 1.2 billion dollars. \n",
    "\n",
    "Though no where near the worth of Bitcoin or the blue chips, this data has definantly given me a deeper appreciation for Dogecoin, and I hope this notebook has either given you a deeper appreciation for this cryptocurrency, or, at the least, has entertained you."
   ]
  },
  {
   "cell_type": "markdown",
   "id": "dirty-assessment",
   "metadata": {
    "papermill": {
     "duration": 0.046903,
     "end_time": "2021-04-09T20:54:27.650415",
     "exception": false,
     "start_time": "2021-04-09T20:54:27.603512",
     "status": "completed"
    },
    "tags": []
   },
   "source": [
    "### Dates of Record"
   ]
  },
  {
   "cell_type": "markdown",
   "id": "limiting-tribute",
   "metadata": {
    "papermill": {
     "duration": 0.048942,
     "end_time": "2021-04-09T20:54:27.748713",
     "exception": false,
     "start_time": "2021-04-09T20:54:27.699771",
     "status": "completed"
    },
    "tags": []
   },
   "source": [
    "Now that we've seen the course of Dogecoin values, let's delve into the days that set record prices, in order to try and understand what may lead to the popularity and volatility of Dogecoin."
   ]
  },
  {
   "cell_type": "code",
   "execution_count": 16,
   "id": "accepted-opportunity",
   "metadata": {
    "execution": {
     "iopub.execute_input": "2021-04-09T20:54:27.852310Z",
     "iopub.status.busy": "2021-04-09T20:54:27.851541Z",
     "iopub.status.idle": "2021-04-09T20:54:27.856374Z",
     "shell.execute_reply": "2021-04-09T20:54:27.855544Z"
    },
    "papermill": {
     "duration": 0.060242,
     "end_time": "2021-04-09T20:54:27.856582",
     "exception": false,
     "start_time": "2021-04-09T20:54:27.796340",
     "status": "completed"
    },
    "tags": []
   },
   "outputs": [
    {
     "name": "stdout",
     "output_type": "stream",
     "text": [
      "Highest Daily Close: 0.078825\n",
      "Highest Daily Price: 0.084945\n",
      "Highest Daily Average: 0.076706\n",
      "Highest Daily Volume Traded: 25403310432.0\n",
      "Highest Daily Sum of Transactions: 1277850023.00568\n"
     ]
    }
   ],
   "source": [
    "print(\"Highest Daily Close:\", doge2.Close.max())\n",
    "print(\"Highest Daily Price:\", doge2.High.max())\n",
    "print(\"Highest Daily Average:\", doge2.Average.max())\n",
    "print(\"Highest Daily Volume Traded:\", doge2.Volume.max())\n",
    "print(\"Highest Daily Sum of Transactions:\", doge2.Impact.max())"
   ]
  },
  {
   "cell_type": "code",
   "execution_count": 17,
   "id": "acting-assessment",
   "metadata": {
    "execution": {
     "iopub.execute_input": "2021-04-09T20:54:27.961830Z",
     "iopub.status.busy": "2021-04-09T20:54:27.960858Z",
     "iopub.status.idle": "2021-04-09T20:54:27.976945Z",
     "shell.execute_reply": "2021-04-09T20:54:27.976370Z"
    },
    "papermill": {
     "duration": 0.071593,
     "end_time": "2021-04-09T20:54:27.977110",
     "exception": false,
     "start_time": "2021-04-09T20:54:27.905517",
     "status": "completed"
    },
    "tags": []
   },
   "outputs": [
    {
     "name": "stdout",
     "output_type": "stream",
     "text": [
      "3 Highest Closing Days: Date\n",
      "2021-02-08    0.078825\n",
      "2021-02-07    0.078782\n",
      "2021-02-10    0.072896\n",
      "Name: Close, dtype: float64\n",
      "----------\n",
      "3 Days with Highest Price: Date\n",
      "2021-02-08    0.084945\n",
      "2021-02-07    0.084357\n",
      "2021-02-09    0.083128\n",
      "Name: High, dtype: float64\n",
      "----------\n",
      "3 Highest Average Days: Date\n",
      "2021-02-08    0.076706\n",
      "2021-02-09    0.074398\n",
      "2021-02-10    0.073156\n",
      "Name: Average, dtype: float64\n",
      "----------\n",
      "3 Days with Highest Volume: Date\n",
      "2021-01-29    2.540331e+10\n",
      "2021-02-07    1.426102e+10\n",
      "2021-02-04    1.304084e+10\n",
      "Name: Volume, dtype: float64\n",
      "----------\n",
      "3 Highest Value of Dogecoin Traded Days: Date\n",
      "2021-01-29    1.277850e+09\n",
      "2021-02-08    9.852406e+08\n",
      "2021-02-07    9.800176e+08\n",
      "Name: Impact, dtype: float64\n"
     ]
    }
   ],
   "source": [
    "print('3 Highest Closing Days:', doge2.Close.sort_values(ascending = False).head(3))\n",
    "print('----------')\n",
    "print('3 Days with Highest Price:', doge2.High.sort_values(ascending = False).head(3))\n",
    "print('----------')\n",
    "print('3 Highest Average Days:', doge2.Average.sort_values(ascending = False).head(3))\n",
    "print('----------')\n",
    "print('3 Days with Highest Volume:', doge2.Volume.sort_values(ascending = False).head(3))\n",
    "print('----------')\n",
    "print('3 Highest Value of Dogecoin Traded Days:', doge2.Impact.sort_values(ascending = False).head(3))"
   ]
  },
  {
   "cell_type": "code",
   "execution_count": 18,
   "id": "looking-failure",
   "metadata": {
    "execution": {
     "iopub.execute_input": "2021-04-09T20:54:28.080350Z",
     "iopub.status.busy": "2021-04-09T20:54:28.079610Z",
     "iopub.status.idle": "2021-04-09T20:54:28.083873Z",
     "shell.execute_reply": "2021-04-09T20:54:28.083245Z"
    },
    "papermill": {
     "duration": 0.058292,
     "end_time": "2021-04-09T20:54:28.084015",
     "exception": false,
     "start_time": "2021-04-09T20:54:28.025723",
     "status": "completed"
    },
    "tags": []
   },
   "outputs": [
    {
     "name": "stdout",
     "output_type": "stream",
     "text": [
      "1 Highest Value Dogecoin = 289.9146757679181 Dogecoins at First Open\n"
     ]
    }
   ],
   "source": [
    "print('1 Highest Value Dogecoin =', doge2.High.max()/doge2.Open[0], 'Dogecoins at First Open')"
   ]
  },
  {
   "cell_type": "markdown",
   "id": "editorial-literature",
   "metadata": {
    "papermill": {
     "duration": 0.049538,
     "end_time": "2021-04-09T20:54:28.182505",
     "exception": false,
     "start_time": "2021-04-09T20:54:28.132967",
     "status": "completed"
    },
    "tags": []
   },
   "source": [
    "As of April 8th, 2021, the date which has seen the highest overall value of Dogecoin is February 8th, 2021, with the range of February 7th to February 10th being represented as second and third place among the Close, High, Average, Volume, and Impact values. \n",
    "\n",
    "Interestingly, January 29th, 2021, saw the most trades occur and represented the highest value of transactions in Dogecoin history, even though the price per unit was not at it's peak."
   ]
  },
  {
   "cell_type": "markdown",
   "id": "interested-tsunami",
   "metadata": {
    "papermill": {
     "duration": 0.048294,
     "end_time": "2021-04-09T20:54:28.279513",
     "exception": false,
     "start_time": "2021-04-09T20:54:28.231219",
     "status": "completed"
    },
    "tags": []
   },
   "source": [
    "#### February 8th, 2021 - Why?"
   ]
  },
  {
   "cell_type": "markdown",
   "id": "compressed-robert",
   "metadata": {
    "papermill": {
     "duration": 0.048371,
     "end_time": "2021-04-09T20:54:28.376462",
     "exception": false,
     "start_time": "2021-04-09T20:54:28.328091",
     "status": "completed"
    },
    "tags": []
   },
   "source": [
    "Why was February 8th, 2021, the day that Dogecoin peaked at nearly 290 times its first opening value, the day that it peaked? What else was going on that day that could have influenced Dogecoin's spike?\n",
    "\n",
    "Could these tweets have anything to do with them?"
   ]
  },
  {
   "cell_type": "markdown",
   "id": "affected-scene",
   "metadata": {
    "papermill": {
     "duration": 0.048484,
     "end_time": "2021-04-09T20:54:28.473392",
     "exception": false,
     "start_time": "2021-04-09T20:54:28.424908",
     "status": "completed"
    },
    "tags": []
   },
   "source": [
    "<blockquote class=\"twitter-tweet\"><p lang=\"en\" dir=\"ltr\">🎶 Who let the Doge out 🎶</p>&mdash; Elon Musk (@elonmusk) <a href=\"https://twitter.com/elonmusk/status/1358542364948668418?ref_src=twsrc%5Etfw\">February 7, 2021</a></blockquote> <script async src=\"https://platform.twitter.com/widgets.js\" charset=\"utf-8\"></script>\n",
    "<blockquote class=\"twitter-tweet\"><p lang=\"vi\" dir=\"ltr\">Ð is for Ðogecoin! Instructional video.<a href=\"https://t.co/UEEocOfcTb\">https://t.co/UEEocOfcTb</a></p>&mdash; Elon Musk (@elonmusk) <a href=\"https://twitter.com/elonmusk/status/1358584801003884544?ref_src=twsrc%5Etfw\">February 8, 2021</a></blockquote> <script async src=\"https://platform.twitter.com/widgets.js\" charset=\"utf-8\"></script>"
   ]
  },
  {
   "cell_type": "markdown",
   "id": "liberal-comfort",
   "metadata": {
    "papermill": {
     "duration": 0.048371,
     "end_time": "2021-04-09T20:54:28.570443",
     "exception": false,
     "start_time": "2021-04-09T20:54:28.522072",
     "status": "completed"
    },
    "tags": []
   },
   "source": [
    "Or could this crypto-related story have helped drive it along?\n",
    "\n",
    "#### Tesla buys $1.5 billion in bitcoin, plans to accept it as payment\n",
    "PUBLISHED MON, FEB 8 20217:48 AM EST\n",
    "\n",
    "https://www.cnbc.com/2021/02/08/tesla-buys-1point5-billion-in-bitcoin.html"
   ]
  },
  {
   "cell_type": "markdown",
   "id": "breathing-excerpt",
   "metadata": {
    "papermill": {
     "duration": 0.048251,
     "end_time": "2021-04-09T20:54:28.667550",
     "exception": false,
     "start_time": "2021-04-09T20:54:28.619299",
     "status": "completed"
    },
    "tags": []
   },
   "source": [
    "### Additional Questions / Research"
   ]
  },
  {
   "cell_type": "markdown",
   "id": "baking-coordination",
   "metadata": {
    "papermill": {
     "duration": 0.048352,
     "end_time": "2021-04-09T20:54:28.764593",
     "exception": false,
     "start_time": "2021-04-09T20:54:28.716241",
     "status": "completed"
    },
    "tags": []
   },
   "source": [
    "The trend of Dogecoin could be better understood with a few additional data sets, to allow comparison and context. Some useful data would be:\n",
    "\n",
    "* The price trend of Bitcoin, to compare the most popular cryptocurrency with Dogecoin. Is Dogecoin an inferior good, that only those who can't afford to buy into Bitcoin opt for, or has the boom in price of Bitcoin led speculators to assume Dogecoin will grow in a similar way?\n",
    "\n",
    "* The price trend of the Stock Market, which is the most widely invested in and accepted investment tool in the US. Especially if ROI rates could be considered between crypto-investments and Wall Street Investments, and compared with some of the other events happening around that time (Gamestop, anyone??)\n",
    "\n",
    "* The yield of the 10 Year T Note. This is a staple of ensured investment and, honestly, if the US Gov't defaults on a bond, there's a good chance losing a few thousand dollars is going to be the least of your worries, assuming you are from the US. With rates finally climbing up following this trend, and the supply of cheap loans starting to contract, this may have led to a decline in Dogecoin attractiveness. It has been argued, however, that cheap money makes for risky investments, since stable investments aren't paying much at all. \n",
    "\n",
    "* How has Dogecoin faired since NFTs (Non-Fungible Tokens) have risen in popularity? Have NFTs pulled any of the crypto investors away, and, if so, by how much?"
   ]
  },
  {
   "cell_type": "markdown",
   "id": "north-lawsuit",
   "metadata": {
    "papermill": {
     "duration": 0.048992,
     "end_time": "2021-04-09T20:54:28.862449",
     "exception": false,
     "start_time": "2021-04-09T20:54:28.813457",
     "status": "completed"
    },
    "tags": []
   },
   "source": [
    "### Conclusion"
   ]
  },
  {
   "cell_type": "markdown",
   "id": "ordinary-nicholas",
   "metadata": {
    "papermill": {
     "duration": 0.048625,
     "end_time": "2021-04-09T20:54:28.960081",
     "exception": false,
     "start_time": "2021-04-09T20:54:28.911456",
     "status": "completed"
    },
    "tags": []
   },
   "source": [
    "Dogecoin seems to have peaked with a lot of the buzz the Elon Musk gave it; that being said, Musk's comments were made after the peak trading day, meaning that, although he seemed to have help it peak, he merely saw a trend and commented on it, further building upon the hype.\n",
    "\n",
    "How has Dogecoin actually faired? The value that it held in early 2021 has begun to come down; there could be an additional peak or growth in the future, as there have been in the past (but, if it was truly predictable, I would probably be investing at the lows, waiting to sell off at the next peak, and not giving out any analysis freely, at the least)."
   ]
  },
  {
   "cell_type": "markdown",
   "id": "persistent-tablet",
   "metadata": {
    "papermill": {
     "duration": 0.048471,
     "end_time": "2021-04-09T20:54:29.057367",
     "exception": false,
     "start_time": "2021-04-09T20:54:29.008896",
     "status": "completed"
    },
    "tags": []
   },
   "source": [
    "## THANK YOU!"
   ]
  },
  {
   "cell_type": "markdown",
   "id": "unusual-maintenance",
   "metadata": {
    "papermill": {
     "duration": 0.048818,
     "end_time": "2021-04-09T20:54:29.155306",
     "exception": false,
     "start_time": "2021-04-09T20:54:29.106488",
     "status": "completed"
    },
    "tags": []
   },
   "source": [
    "I hope this notebook has been enjoyable, and either given you context, info, or a chuckle about, arguably, the cutest of cryptocurrencies. I love feedback - please let me know what you think was good, and what needs work!"
   ]
  },
  {
   "cell_type": "code",
   "execution_count": null,
   "id": "dressed-opportunity",
   "metadata": {
    "papermill": {
     "duration": 0.048518,
     "end_time": "2021-04-09T20:54:29.252962",
     "exception": false,
     "start_time": "2021-04-09T20:54:29.204444",
     "status": "completed"
    },
    "tags": []
   },
   "outputs": [],
   "source": []
  }
 ],
 "metadata": {
  "kernelspec": {
   "display_name": "Python 3",
   "language": "python",
   "name": "python3"
  },
  "language_info": {
   "codemirror_mode": {
    "name": "ipython",
    "version": 3
   },
   "file_extension": ".py",
   "mimetype": "text/x-python",
   "name": "python",
   "nbconvert_exporter": "python",
   "pygments_lexer": "ipython3",
   "version": "3.7.9"
  },
  "papermill": {
   "default_parameters": {},
   "duration": 13.67164,
   "end_time": "2021-04-09T20:54:29.912072",
   "environment_variables": {},
   "exception": null,
   "input_path": "__notebook__.ipynb",
   "output_path": "__notebook__.ipynb",
   "parameters": {},
   "start_time": "2021-04-09T20:54:16.240432",
   "version": "2.3.2"
  }
 },
 "nbformat": 4,
 "nbformat_minor": 5
}
