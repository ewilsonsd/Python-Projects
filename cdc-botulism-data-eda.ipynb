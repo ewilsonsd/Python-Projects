{
 "cells": [
  {
   "cell_type": "markdown",
   "metadata": {
    "papermill": {
     "duration": 0.032793,
     "end_time": "2020-12-01T17:21:07.893392",
     "exception": false,
     "start_time": "2020-12-01T17:21:07.860599",
     "status": "completed"
    },
    "tags": []
   },
   "source": [
    "# CDC Botulism Data EDA"
   ]
  },
  {
   "cell_type": "markdown",
   "metadata": {
    "papermill": {
     "duration": 0.031906,
     "end_time": "2020-12-01T17:21:07.957325",
     "exception": false,
     "start_time": "2020-12-01T17:21:07.925419",
     "status": "completed"
    },
    "tags": []
   },
   "source": [
    "By Eric Wilson"
   ]
  },
  {
   "cell_type": "markdown",
   "metadata": {
    "papermill": {
     "duration": 0.031209,
     "end_time": "2020-12-01T17:21:08.021916",
     "exception": false,
     "start_time": "2020-12-01T17:21:07.990707",
     "status": "completed"
    },
    "tags": []
   },
   "source": [
    "Botulism is a rare illness caused by eating food that has spoiled, with few cases occuring per year in the United States. It is believed to be the illness that killed Buddha, and, although uncommon, still exists and is often fatal.\n",
    "\n",
    "The data set used in this notebook is from the CDC's open data portal.\n",
    "\n",
    "With the available data, we will seek to explore these questions: \n",
    "- Which types of botulism are most common?\n",
    "- In which years have botulism deaths spiked? \n",
    "- In which States are botulism deaths most and least common?\n"
   ]
  },
  {
   "cell_type": "markdown",
   "metadata": {
    "papermill": {
     "duration": 0.03102,
     "end_time": "2020-12-01T17:21:08.084254",
     "exception": false,
     "start_time": "2020-12-01T17:21:08.053234",
     "status": "completed"
    },
    "tags": []
   },
   "source": [
    "## Importing Libraries, Data, and Cleaning Data"
   ]
  },
  {
   "cell_type": "code",
   "execution_count": 1,
   "metadata": {
    "_cell_guid": "79c7e3d0-c299-4dcb-8224-4455121ee9b0",
    "_uuid": "d629ff2d2480ee46fbb7e2d37f6b5fab8052498a",
    "execution": {
     "iopub.execute_input": "2020-12-01T17:21:08.154410Z",
     "iopub.status.busy": "2020-12-01T17:21:08.153592Z",
     "iopub.status.idle": "2020-12-01T17:21:08.156996Z",
     "shell.execute_reply": "2020-12-01T17:21:08.156203Z"
    },
    "papermill": {
     "duration": 0.041361,
     "end_time": "2020-12-01T17:21:08.157129",
     "exception": false,
     "start_time": "2020-12-01T17:21:08.115768",
     "status": "completed"
    },
    "tags": []
   },
   "outputs": [],
   "source": [
    "import pandas as pd\n",
    "import numpy as np\n",
    "import matplotlib.pyplot as plt"
   ]
  },
  {
   "cell_type": "code",
   "execution_count": 2,
   "metadata": {
    "execution": {
     "iopub.execute_input": "2020-12-01T17:21:08.230210Z",
     "iopub.status.busy": "2020-12-01T17:21:08.229367Z",
     "iopub.status.idle": "2020-12-01T17:21:08.241977Z",
     "shell.execute_reply": "2020-12-01T17:21:08.241157Z"
    },
    "papermill": {
     "duration": 0.052816,
     "end_time": "2020-12-01T17:21:08.242121",
     "exception": false,
     "start_time": "2020-12-01T17:21:08.189305",
     "status": "completed"
    },
    "tags": []
   },
   "outputs": [],
   "source": [
    "df = pd.read_csv('../input/cdc-botulism/66i6-hisz.csv')"
   ]
  },
  {
   "cell_type": "code",
   "execution_count": 3,
   "metadata": {
    "execution": {
     "iopub.execute_input": "2020-12-01T17:21:08.325994Z",
     "iopub.status.busy": "2020-12-01T17:21:08.325087Z",
     "iopub.status.idle": "2020-12-01T17:21:08.339346Z",
     "shell.execute_reply": "2020-12-01T17:21:08.338693Z"
    },
    "papermill": {
     "duration": 0.065066,
     "end_time": "2020-12-01T17:21:08.339486",
     "exception": false,
     "start_time": "2020-12-01T17:21:08.274420",
     "status": "completed"
    },
    "tags": []
   },
   "outputs": [
    {
     "data": {
      "text/html": [
       "<div>\n",
       "<style scoped>\n",
       "    .dataframe tbody tr th:only-of-type {\n",
       "        vertical-align: middle;\n",
       "    }\n",
       "\n",
       "    .dataframe tbody tr th {\n",
       "        vertical-align: top;\n",
       "    }\n",
       "\n",
       "    .dataframe thead th {\n",
       "        text-align: right;\n",
       "    }\n",
       "</style>\n",
       "<table border=\"1\" class=\"dataframe\">\n",
       "  <thead>\n",
       "    <tr style=\"text-align: right;\">\n",
       "      <th></th>\n",
       "      <th>state</th>\n",
       "      <th>year</th>\n",
       "      <th>bottype</th>\n",
       "      <th>toxintype</th>\n",
       "      <th>count</th>\n",
       "    </tr>\n",
       "  </thead>\n",
       "  <tbody>\n",
       "    <tr>\n",
       "      <th>0</th>\n",
       "      <td>Alaska</td>\n",
       "      <td>1947</td>\n",
       "      <td>Foodborne</td>\n",
       "      <td>Unknown</td>\n",
       "      <td>3</td>\n",
       "    </tr>\n",
       "    <tr>\n",
       "      <th>1</th>\n",
       "      <td>Alaska</td>\n",
       "      <td>1948</td>\n",
       "      <td>Foodborne</td>\n",
       "      <td>Unknown</td>\n",
       "      <td>4</td>\n",
       "    </tr>\n",
       "    <tr>\n",
       "      <th>2</th>\n",
       "      <td>Alaska</td>\n",
       "      <td>1950</td>\n",
       "      <td>Foodborne</td>\n",
       "      <td>E</td>\n",
       "      <td>5</td>\n",
       "    </tr>\n",
       "    <tr>\n",
       "      <th>3</th>\n",
       "      <td>Alaska</td>\n",
       "      <td>1952</td>\n",
       "      <td>Foodborne</td>\n",
       "      <td>E</td>\n",
       "      <td>1</td>\n",
       "    </tr>\n",
       "    <tr>\n",
       "      <th>4</th>\n",
       "      <td>Alaska</td>\n",
       "      <td>1956</td>\n",
       "      <td>Foodborne</td>\n",
       "      <td>E</td>\n",
       "      <td>5</td>\n",
       "    </tr>\n",
       "  </tbody>\n",
       "</table>\n",
       "</div>"
      ],
      "text/plain": [
       "    state  year    bottype toxintype  count\n",
       "0  Alaska  1947  Foodborne   Unknown      3\n",
       "1  Alaska  1948  Foodborne   Unknown      4\n",
       "2  Alaska  1950  Foodborne         E      5\n",
       "3  Alaska  1952  Foodborne         E      1\n",
       "4  Alaska  1956  Foodborne         E      5"
      ]
     },
     "execution_count": 3,
     "metadata": {},
     "output_type": "execute_result"
    }
   ],
   "source": [
    "df.head()"
   ]
  },
  {
   "cell_type": "code",
   "execution_count": 4,
   "metadata": {
    "execution": {
     "iopub.execute_input": "2020-12-01T17:21:08.417650Z",
     "iopub.status.busy": "2020-12-01T17:21:08.416457Z",
     "iopub.status.idle": "2020-12-01T17:21:08.421495Z",
     "shell.execute_reply": "2020-12-01T17:21:08.420721Z"
    },
    "papermill": {
     "duration": 0.047957,
     "end_time": "2020-12-01T17:21:08.421625",
     "exception": false,
     "start_time": "2020-12-01T17:21:08.373668",
     "status": "completed"
    },
    "tags": []
   },
   "outputs": [
    {
     "data": {
      "text/plain": [
       "state        15\n",
       "year          0\n",
       "bottype       0\n",
       "toxintype     0\n",
       "count         0\n",
       "dtype: int64"
      ]
     },
     "execution_count": 4,
     "metadata": {},
     "output_type": "execute_result"
    }
   ],
   "source": [
    "df.isna().sum()"
   ]
  },
  {
   "cell_type": "code",
   "execution_count": 5,
   "metadata": {
    "execution": {
     "iopub.execute_input": "2020-12-01T17:21:08.497079Z",
     "iopub.status.busy": "2020-12-01T17:21:08.496189Z",
     "iopub.status.idle": "2020-12-01T17:21:08.519928Z",
     "shell.execute_reply": "2020-12-01T17:21:08.519155Z"
    },
    "papermill": {
     "duration": 0.064324,
     "end_time": "2020-12-01T17:21:08.520085",
     "exception": false,
     "start_time": "2020-12-01T17:21:08.455761",
     "status": "completed"
    },
    "tags": []
   },
   "outputs": [
    {
     "data": {
      "text/plain": [
       "(985, 5)"
      ]
     },
     "execution_count": 5,
     "metadata": {},
     "output_type": "execute_result"
    }
   ],
   "source": [
    "df = df.dropna()\n",
    "df = df.reset_index(drop=True)\n",
    "df.shape"
   ]
  },
  {
   "cell_type": "code",
   "execution_count": 6,
   "metadata": {
    "execution": {
     "iopub.execute_input": "2020-12-01T17:21:08.605600Z",
     "iopub.status.busy": "2020-12-01T17:21:08.604317Z",
     "iopub.status.idle": "2020-12-01T17:21:08.611335Z",
     "shell.execute_reply": "2020-12-01T17:21:08.610572Z"
    },
    "papermill": {
     "duration": 0.050016,
     "end_time": "2020-12-01T17:21:08.611467",
     "exception": false,
     "start_time": "2020-12-01T17:21:08.561451",
     "status": "completed"
    },
    "tags": []
   },
   "outputs": [
    {
     "name": "stdout",
     "output_type": "stream",
     "text": [
      "Number of cases: 3972\n",
      "Number of States: 19\n",
      "Range of years: 1899 - 2017\n",
      "Types of Botulism: ['Foodborne' 'Infant' 'Wound' 'Other']\n"
     ]
    }
   ],
   "source": [
    "print('Number of cases:', df['count'].sum())\n",
    "print('Number of States:', df['state'].nunique())\n",
    "print('Range of years:', df.year.min(), '-', df.year.max())\n",
    "print('Types of Botulism:', df.bottype.unique())"
   ]
  },
  {
   "cell_type": "markdown",
   "metadata": {
    "papermill": {
     "duration": 0.035491,
     "end_time": "2020-12-01T17:21:08.681716",
     "exception": false,
     "start_time": "2020-12-01T17:21:08.646225",
     "status": "completed"
    },
    "tags": []
   },
   "source": [
    "This dataset, once null values are removed, examines 3,972 cases of botulism in the US from 1899 to 2017, over the scope of 19 states. The types of botulism are catagorized as \"Foodborne,\" \"Infant,\" \"Wound,\" or \"Other.\" \n"
   ]
  },
  {
   "cell_type": "markdown",
   "metadata": {
    "papermill": {
     "duration": 0.034045,
     "end_time": "2020-12-01T17:21:08.750891",
     "exception": false,
     "start_time": "2020-12-01T17:21:08.716846",
     "status": "completed"
    },
    "tags": []
   },
   "source": [
    "## Data Exploration"
   ]
  },
  {
   "cell_type": "markdown",
   "metadata": {
    "papermill": {
     "duration": 0.034115,
     "end_time": "2020-12-01T17:21:08.820756",
     "exception": false,
     "start_time": "2020-12-01T17:21:08.786641",
     "status": "completed"
    },
    "tags": []
   },
   "source": [
    "### Types of Botulism"
   ]
  },
  {
   "cell_type": "markdown",
   "metadata": {
    "papermill": {
     "duration": 0.033962,
     "end_time": "2020-12-01T17:21:08.889106",
     "exception": false,
     "start_time": "2020-12-01T17:21:08.855144",
     "status": "completed"
    },
    "tags": []
   },
   "source": [
    "First, let's take a look at what forms of botulism have the highest deaths reported with them. "
   ]
  },
  {
   "cell_type": "code",
   "execution_count": 7,
   "metadata": {
    "execution": {
     "iopub.execute_input": "2020-12-01T17:21:08.968637Z",
     "iopub.status.busy": "2020-12-01T17:21:08.967773Z",
     "iopub.status.idle": "2020-12-01T17:21:09.282111Z",
     "shell.execute_reply": "2020-12-01T17:21:09.281291Z"
    },
    "papermill": {
     "duration": 0.35892,
     "end_time": "2020-12-01T17:21:09.282246",
     "exception": false,
     "start_time": "2020-12-01T17:21:08.923326",
     "status": "completed"
    },
    "tags": []
   },
   "outputs": [
    {
     "data": {
      "image/png": "[encoded data removed]",
      "text/plain": [
       "<Figure size 1008x720 with 1 Axes>"
      ]
     },
     "metadata": {
      "needs_background": "light"
     },
     "output_type": "display_data"
    }
   ],
   "source": [
    "dfbot = (df.bottype.value_counts() / df.bottype.count())\n",
    "dfbot.plot(kind = 'bar', figsize = (14,10))  \n",
    "\n",
    "plt.xlabel(\"Type\", fontsize = 14)\n",
    "plt.ylabel(\"Percent\", fontsize = 14)\n",
    "plt.title(\"Percent by Type\", fontsize = 18)\n",
    "\n",
    "plt.show()"
   ]
  },
  {
   "cell_type": "markdown",
   "metadata": {
    "papermill": {
     "duration": 0.036016,
     "end_time": "2020-12-01T17:21:09.354775",
     "exception": false,
     "start_time": "2020-12-01T17:21:09.318759",
     "status": "completed"
    },
    "tags": []
   },
   "source": [
    "Both foodborne and infant botulism have the highest death tolls associated with them, each accounting for over 40% of botulism related deaths in the data set. \n",
    "\n",
    "There is a chance that a certain bacteria lives in honey, which, after about one year of age, a human's body becomes able to process it - prior to one's first birthday, however, there is a possibility of infants getting and dying from botulism found in that same honey.\n",
    "\n",
    "As a father who just celebrated his son's first birthday, I have been cautious (if you ask his grandparents, perhaps even over cautious) of feeding my son certain foods. There is a chance that a certain bacteria lives in honey, which, after about one year of age, a human's body becomes able to process it. Having read about this prior to finding this dataset, it was one of the initial things that drew me to it. Let's look at the number of infant botulism cases over time."
   ]
  },
  {
   "cell_type": "code",
   "execution_count": 8,
   "metadata": {
    "execution": {
     "iopub.execute_input": "2020-12-01T17:21:09.454377Z",
     "iopub.status.busy": "2020-12-01T17:21:09.451958Z",
     "iopub.status.idle": "2020-12-01T17:21:09.956888Z",
     "shell.execute_reply": "2020-12-01T17:21:09.956199Z"
    },
    "papermill": {
     "duration": 0.566533,
     "end_time": "2020-12-01T17:21:09.957027",
     "exception": false,
     "start_time": "2020-12-01T17:21:09.390494",
     "status": "completed"
    },
    "tags": []
   },
   "outputs": [
    {
     "data": {
      "image/png": "[encoded data removed]",
      "text/plain": [
       "<Figure size 1008x720 with 1 Axes>"
      ]
     },
     "metadata": {
      "needs_background": "light"
     },
     "output_type": "display_data"
    }
   ],
   "source": [
    "dfib = df[df['bottype'] == 'Infant']\n",
    "dfib = dfib[['year', 'count']]\n",
    "dfib = dfib.groupby(['year']).sum()\n",
    "dfib.plot(kind = 'bar', figsize = (14,10))  \n",
    "\n",
    "plt.xlabel(\"Year\", fontsize = 14)\n",
    "plt.ylabel(\"Count\", fontsize = 14)\n",
    "plt.title(\"Count by Year\", fontsize = 18)\n",
    "\n",
    "plt.show()"
   ]
  },
  {
   "cell_type": "markdown",
   "metadata": {
    "papermill": {
     "duration": 0.036385,
     "end_time": "2020-12-01T17:21:10.030583",
     "exception": false,
     "start_time": "2020-12-01T17:21:09.994198",
     "status": "completed"
    },
    "tags": []
   },
   "source": [
    "Strictly speaking, the number of deaths due to infant botulism have gone up since 1976."
   ]
  },
  {
   "cell_type": "markdown",
   "metadata": {
    "papermill": {
     "duration": 0.036747,
     "end_time": "2020-12-01T17:21:10.104105",
     "exception": false,
     "start_time": "2020-12-01T17:21:10.067358",
     "status": "completed"
    },
    "tags": []
   },
   "source": [
    "### Cases by Year"
   ]
  },
  {
   "cell_type": "markdown",
   "metadata": {
    "papermill": {
     "duration": 0.036618,
     "end_time": "2020-12-01T17:21:10.177926",
     "exception": false,
     "start_time": "2020-12-01T17:21:10.141308",
     "status": "completed"
    },
    "tags": []
   },
   "source": [
    "What year or years have the highest number of cases of botulism? Have rates gone up or down?"
   ]
  },
  {
   "cell_type": "code",
   "execution_count": 9,
   "metadata": {
    "execution": {
     "iopub.execute_input": "2020-12-01T17:21:10.263116Z",
     "iopub.status.busy": "2020-12-01T17:21:10.262279Z",
     "iopub.status.idle": "2020-12-01T17:21:10.265980Z",
     "shell.execute_reply": "2020-12-01T17:21:10.265184Z"
    },
    "papermill": {
     "duration": 0.050851,
     "end_time": "2020-12-01T17:21:10.266106",
     "exception": false,
     "start_time": "2020-12-01T17:21:10.215255",
     "status": "completed"
    },
    "tags": []
   },
   "outputs": [],
   "source": [
    "dfyc = df[['year', 'count']]\n",
    "dfyc = dfyc.groupby(['year']).sum()"
   ]
  },
  {
   "cell_type": "code",
   "execution_count": 10,
   "metadata": {
    "execution": {
     "iopub.execute_input": "2020-12-01T17:21:10.357175Z",
     "iopub.status.busy": "2020-12-01T17:21:10.350239Z",
     "iopub.status.idle": "2020-12-01T17:21:10.593351Z",
     "shell.execute_reply": "2020-12-01T17:21:10.592161Z"
    },
    "papermill": {
     "duration": 0.290493,
     "end_time": "2020-12-01T17:21:10.593599",
     "exception": false,
     "start_time": "2020-12-01T17:21:10.303106",
     "status": "completed"
    },
    "tags": []
   },
   "outputs": [
    {
     "data": {
      "image/png": "[encoded data removed]",
      "text/plain": [
       "<Figure size 1008x576 with 1 Axes>"
      ]
     },
     "metadata": {
      "needs_background": "light"
     },
     "output_type": "display_data"
    }
   ],
   "source": [
    "dfyc.plot(kind = 'line', figsize = (14,8))  \n",
    "\n",
    "plt.xlabel(\"Year\")\n",
    "plt.ylabel(\"Count\")\n",
    "plt.title(\"Count per Year\")\n",
    "\n",
    "plt.show()"
   ]
  },
  {
   "cell_type": "markdown",
   "metadata": {
    "papermill": {
     "duration": 0.048723,
     "end_time": "2020-12-01T17:21:10.696546",
     "exception": false,
     "start_time": "2020-12-01T17:21:10.647823",
     "status": "completed"
    },
    "tags": []
   },
   "source": [
    "Cases of botulism have increased over the range of years present in the dataset; the two initial reasons for this may be an increase in population, and a better understanding (and, therefore, reporting) of botulism and cause of death.  "
   ]
  },
  {
   "cell_type": "code",
   "execution_count": 11,
   "metadata": {
    "execution": {
     "iopub.execute_input": "2020-12-01T17:21:10.794144Z",
     "iopub.status.busy": "2020-12-01T17:21:10.787338Z",
     "iopub.status.idle": "2020-12-01T17:21:11.058385Z",
     "shell.execute_reply": "2020-12-01T17:21:11.057716Z"
    },
    "papermill": {
     "duration": 0.321434,
     "end_time": "2020-12-01T17:21:11.058524",
     "exception": false,
     "start_time": "2020-12-01T17:21:10.737090",
     "status": "completed"
    },
    "tags": []
   },
   "outputs": [
    {
     "data": {
      "text/plain": [
       "<matplotlib.axes._subplots.AxesSubplot at 0x7fb16893b690>"
      ]
     },
     "execution_count": 11,
     "metadata": {},
     "output_type": "execute_result"
    },
    {
     "data": {
      "image/png": "[encoded data removed]",
      "text/plain": [
       "<Figure size 1296x720 with 1 Axes>"
      ]
     },
     "metadata": {
      "needs_background": "light"
     },
     "output_type": "display_data"
    }
   ],
   "source": [
    "df.year.value_counts().head(20).plot(kind='bar', figsize = (18,10))"
   ]
  },
  {
   "cell_type": "markdown",
   "metadata": {
    "papermill": {
     "duration": 0.040524,
     "end_time": "2020-12-01T17:21:11.140246",
     "exception": false,
     "start_time": "2020-12-01T17:21:11.099722",
     "status": "completed"
    },
    "tags": []
   },
   "source": [
    "As hypothesized, the number of times a year appears accounts for an additional state reporting in that year; of the top 20 years reported, the earliest year was 1984 (33 years from 2017, the most recent year). If a state does not report for a year, it means no deaths due to botulism were reported, but not necessarily that no deaths happened. \n",
    "\n",
    "Let's take a look at the average number of deaths per year - this should help adjust for the increased number of states."
   ]
  },
  {
   "cell_type": "code",
   "execution_count": 12,
   "metadata": {
    "execution": {
     "iopub.execute_input": "2020-12-01T17:21:11.233485Z",
     "iopub.status.busy": "2020-12-01T17:21:11.232275Z",
     "iopub.status.idle": "2020-12-01T17:21:11.236169Z",
     "shell.execute_reply": "2020-12-01T17:21:11.235500Z"
    },
    "papermill": {
     "duration": 0.055545,
     "end_time": "2020-12-01T17:21:11.236301",
     "exception": false,
     "start_time": "2020-12-01T17:21:11.180756",
     "status": "completed"
    },
    "tags": []
   },
   "outputs": [],
   "source": [
    "dfyca = df[['year', 'count']]\n",
    "dfyca = dfyca.groupby(['year']).mean()"
   ]
  },
  {
   "cell_type": "code",
   "execution_count": 13,
   "metadata": {
    "execution": {
     "iopub.execute_input": "2020-12-01T17:21:11.335329Z",
     "iopub.status.busy": "2020-12-01T17:21:11.326344Z",
     "iopub.status.idle": "2020-12-01T17:21:11.552468Z",
     "shell.execute_reply": "2020-12-01T17:21:11.551657Z"
    },
    "papermill": {
     "duration": 0.27553,
     "end_time": "2020-12-01T17:21:11.552596",
     "exception": false,
     "start_time": "2020-12-01T17:21:11.277066",
     "status": "completed"
    },
    "tags": []
   },
   "outputs": [
    {
     "data": {
      "image/png": "[encoded data removed]",
      "text/plain": [
       "<Figure size 1008x576 with 1 Axes>"
      ]
     },
     "metadata": {
      "needs_background": "light"
     },
     "output_type": "display_data"
    }
   ],
   "source": [
    "dfyca.plot(kind = 'line', figsize = (14,8))  \n",
    "\n",
    "plt.xlabel(\"Year\")\n",
    "plt.ylabel(\"Average\")\n",
    "plt.title(\"Average per Year\")\n",
    "\n",
    "plt.show()"
   ]
  },
  {
   "cell_type": "markdown",
   "metadata": {
    "papermill": {
     "duration": 0.042299,
     "end_time": "2020-12-01T17:21:11.637814",
     "exception": false,
     "start_time": "2020-12-01T17:21:11.595515",
     "status": "completed"
    },
    "tags": []
   },
   "source": [
    "Based on the average, it appears as though the number of deaths per year have dropped in the past century, but not drastically in the past 80 or so years."
   ]
  },
  {
   "cell_type": "markdown",
   "metadata": {
    "papermill": {
     "duration": 0.043062,
     "end_time": "2020-12-01T17:21:11.725549",
     "exception": false,
     "start_time": "2020-12-01T17:21:11.682487",
     "status": "completed"
    },
    "tags": []
   },
   "source": [
    "### Botulism by States"
   ]
  },
  {
   "cell_type": "markdown",
   "metadata": {
    "papermill": {
     "duration": 0.04307,
     "end_time": "2020-12-01T17:21:11.811152",
     "exception": false,
     "start_time": "2020-12-01T17:21:11.768082",
     "status": "completed"
    },
    "tags": []
   },
   "source": [
    "What state or states have the highest and lowest aggregate cases of botulism? "
   ]
  },
  {
   "cell_type": "code",
   "execution_count": 14,
   "metadata": {
    "execution": {
     "iopub.execute_input": "2020-12-01T17:21:11.906754Z",
     "iopub.status.busy": "2020-12-01T17:21:11.905897Z",
     "iopub.status.idle": "2020-12-01T17:21:11.911184Z",
     "shell.execute_reply": "2020-12-01T17:21:11.910560Z"
    },
    "papermill": {
     "duration": 0.057842,
     "end_time": "2020-12-01T17:21:11.911329",
     "exception": false,
     "start_time": "2020-12-01T17:21:11.853487",
     "status": "completed"
    },
    "tags": []
   },
   "outputs": [],
   "source": [
    "dfsc = df[['state', 'count']]\n",
    "dfsc = dfsc.groupby(['state']).sum()"
   ]
  },
  {
   "cell_type": "code",
   "execution_count": 15,
   "metadata": {
    "execution": {
     "iopub.execute_input": "2020-12-01T17:21:12.015070Z",
     "iopub.status.busy": "2020-12-01T17:21:12.014228Z",
     "iopub.status.idle": "2020-12-01T17:21:12.302723Z",
     "shell.execute_reply": "2020-12-01T17:21:12.301887Z"
    },
    "papermill": {
     "duration": 0.348588,
     "end_time": "2020-12-01T17:21:12.302867",
     "exception": false,
     "start_time": "2020-12-01T17:21:11.954279",
     "status": "completed"
    },
    "tags": []
   },
   "outputs": [
    {
     "data": {
      "image/png": "[encoded data removed]",
      "text/plain": [
       "<Figure size 1008x720 with 1 Axes>"
      ]
     },
     "metadata": {
      "needs_background": "light"
     },
     "output_type": "display_data"
    }
   ],
   "source": [
    "dfsc.plot(kind = 'bar', figsize = (14,10))  \n",
    "\n",
    "plt.xlabel(\"State\", fontsize = 14)\n",
    "plt.ylabel(\"Count\", fontsize = 14)\n",
    "plt.title(\"Count by State\", fontsize = 18)\n",
    "\n",
    "plt.show()"
   ]
  },
  {
   "cell_type": "markdown",
   "metadata": {
    "papermill": {
     "duration": 0.043891,
     "end_time": "2020-12-01T17:21:12.390817",
     "exception": false,
     "start_time": "2020-12-01T17:21:12.346926",
     "status": "completed"
    },
    "tags": []
   },
   "source": [
    "California, the state with the highest population in the US, also leads in cases of botulism. Massachusetts, which is less populated than California, is more populated than the average state, yet it has the fewest reported cases.\n",
    "\n",
    "Let's take a look at what may affect California's numbers."
   ]
  },
  {
   "cell_type": "code",
   "execution_count": 16,
   "metadata": {
    "execution": {
     "iopub.execute_input": "2020-12-01T17:21:12.488341Z",
     "iopub.status.busy": "2020-12-01T17:21:12.487186Z",
     "iopub.status.idle": "2020-12-01T17:21:12.497313Z",
     "shell.execute_reply": "2020-12-01T17:21:12.496636Z"
    },
    "papermill": {
     "duration": 0.062606,
     "end_time": "2020-12-01T17:21:12.497442",
     "exception": false,
     "start_time": "2020-12-01T17:21:12.434836",
     "status": "completed"
    },
    "tags": []
   },
   "outputs": [
    {
     "data": {
      "text/plain": [
       "count     343.000000\n",
       "mean     1979.014577\n",
       "std        31.092812\n",
       "min      1899.000000\n",
       "25%      1955.000000\n",
       "50%      1989.000000\n",
       "75%      2004.000000\n",
       "max      2017.000000\n",
       "Name: year, dtype: float64"
      ]
     },
     "execution_count": 16,
     "metadata": {},
     "output_type": "execute_result"
    }
   ],
   "source": [
    "dfc = df[df['state'] == 'California']\n",
    "dfc = dfc.reset_index(drop = True)\n",
    "dfc.year.describe()"
   ]
  },
  {
   "cell_type": "markdown",
   "metadata": {
    "papermill": {
     "duration": 0.045393,
     "end_time": "2020-12-01T17:21:12.588028",
     "exception": false,
     "start_time": "2020-12-01T17:21:12.542635",
     "status": "completed"
    },
    "tags": []
   },
   "source": [
    "California has data from 1899 to 2017, which explains the high number - the more years one reports, the more cases are expected. The data is skewed in that it shows a greater number of more recent years, due to multiple types of botulism and multiple types of toxins being reported. Appearing 343 times, over the course of 111 years, California has an average of 3 types of botulism or toxin reported annually, leading to a naturally higher number (over one third of all data in the data set belongs to California)."
   ]
  },
  {
   "cell_type": "code",
   "execution_count": 17,
   "metadata": {
    "execution": {
     "iopub.execute_input": "2020-12-01T17:21:12.692960Z",
     "iopub.status.busy": "2020-12-01T17:21:12.689418Z",
     "iopub.status.idle": "2020-12-01T17:21:12.697488Z",
     "shell.execute_reply": "2020-12-01T17:21:12.696762Z"
    },
    "papermill": {
     "duration": 0.064208,
     "end_time": "2020-12-01T17:21:12.697644",
     "exception": false,
     "start_time": "2020-12-01T17:21:12.633436",
     "status": "completed"
    },
    "tags": []
   },
   "outputs": [
    {
     "data": {
      "text/plain": [
       "count       5.000000\n",
       "mean     1928.200000\n",
       "std        21.684096\n",
       "min      1912.000000\n",
       "25%      1913.000000\n",
       "50%      1916.000000\n",
       "75%      1938.000000\n",
       "max      1962.000000\n",
       "Name: year, dtype: float64"
      ]
     },
     "execution_count": 17,
     "metadata": {},
     "output_type": "execute_result"
    }
   ],
   "source": [
    "dfm = df[df['state'] == 'Massachusetts']\n",
    "dfm = dfm.reset_index(drop = True)\n",
    "dfm.year.describe()"
   ]
  },
  {
   "cell_type": "markdown",
   "metadata": {
    "papermill": {
     "duration": 0.046898,
     "end_time": "2020-12-01T17:21:12.791289",
     "exception": false,
     "start_time": "2020-12-01T17:21:12.744391",
     "status": "completed"
    },
    "tags": []
   },
   "source": [
    "In contrast to California, Massachusetts has five years in the data set, without multiple types of botulism or toxins reported: 1912, 1913, 1916, 1938, and 1962. Next, let's look at Alaska, which has a less population than either California or Massachusetts, but a greater number of cases than Massachusetts."
   ]
  },
  {
   "cell_type": "code",
   "execution_count": 18,
   "metadata": {
    "execution": {
     "iopub.execute_input": "2020-12-01T17:21:12.894704Z",
     "iopub.status.busy": "2020-12-01T17:21:12.893652Z",
     "iopub.status.idle": "2020-12-01T17:21:12.898732Z",
     "shell.execute_reply": "2020-12-01T17:21:12.897991Z"
    },
    "papermill": {
     "duration": 0.062467,
     "end_time": "2020-12-01T17:21:12.898863",
     "exception": false,
     "start_time": "2020-12-01T17:21:12.836396",
     "status": "completed"
    },
    "tags": []
   },
   "outputs": [
    {
     "data": {
      "text/plain": [
       "count      88.000000\n",
       "mean     1988.943182\n",
       "std        16.789678\n",
       "min      1947.000000\n",
       "25%      1977.000000\n",
       "50%      1991.000000\n",
       "75%      2001.250000\n",
       "max      2017.000000\n",
       "Name: year, dtype: float64"
      ]
     },
     "execution_count": 18,
     "metadata": {},
     "output_type": "execute_result"
    }
   ],
   "source": [
    "dfa = df[df['state'] == 'Alaska']\n",
    "dfa = dfa.reset_index(drop = True)\n",
    "dfa.year.describe()"
   ]
  },
  {
   "cell_type": "markdown",
   "metadata": {
    "papermill": {
     "duration": 0.047919,
     "end_time": "2020-12-01T17:21:12.993189",
     "exception": false,
     "start_time": "2020-12-01T17:21:12.945270",
     "status": "completed"
    },
    "tags": []
   },
   "source": [
    "Alaska appears in this data set 88 times, beginning in 1947 (the year it became a state) and ending in 2017 (the end of the data set); similar to California, a greater number of appearances than the year range implies various types of toxins and botulisms that are reported."
   ]
  },
  {
   "cell_type": "markdown",
   "metadata": {
    "papermill": {
     "duration": 0.045503,
     "end_time": "2020-12-01T17:21:13.085718",
     "exception": false,
     "start_time": "2020-12-01T17:21:13.040215",
     "status": "completed"
    },
    "tags": []
   },
   "source": [
    "## Conclusion"
   ]
  },
  {
   "cell_type": "markdown",
   "metadata": {
    "papermill": {
     "duration": 0.04663,
     "end_time": "2020-12-01T17:21:13.178949",
     "exception": false,
     "start_time": "2020-12-01T17:21:13.132319",
     "status": "completed"
    },
    "tags": []
   },
   "source": [
    "### Findings in the Data"
   ]
  },
  {
   "cell_type": "markdown",
   "metadata": {
    "papermill": {
     "duration": 0.045905,
     "end_time": "2020-12-01T17:21:13.272258",
     "exception": false,
     "start_time": "2020-12-01T17:21:13.226353",
     "status": "completed"
    },
    "tags": []
   },
   "source": [
    "Several conclusions are available from the data:\n",
    "- Foodborne and Infant botulism are the most common types of botulism resulting in death.\n",
    "- The average number of deaths per year has remained relatively constant for the past 80 years, with a peak roughly 100 years ago.\n",
    "- California has the most deaths and longest range of years reported in the data set, while Massachusetts has the fewest of either. "
   ]
  },
  {
   "cell_type": "markdown",
   "metadata": {
    "papermill": {
     "duration": 0.045458,
     "end_time": "2020-12-01T17:21:13.363565",
     "exception": false,
     "start_time": "2020-12-01T17:21:13.318107",
     "status": "completed"
    },
    "tags": []
   },
   "source": [
    "### Additional Questions / Further Research"
   ]
  },
  {
   "cell_type": "markdown",
   "metadata": {
    "papermill": {
     "duration": 0.046671,
     "end_time": "2020-12-01T17:21:13.457075",
     "exception": false,
     "start_time": "2020-12-01T17:21:13.410404",
     "status": "completed"
    },
    "tags": []
   },
   "source": [
    "#### Botulism by Type"
   ]
  },
  {
   "cell_type": "markdown",
   "metadata": {
    "papermill": {
     "duration": 0.045889,
     "end_time": "2020-12-01T17:21:13.549642",
     "exception": false,
     "start_time": "2020-12-01T17:21:13.503753",
     "status": "completed"
    },
    "tags": []
   },
   "source": [
    "Statistics have shown a pretty steady drop in infant mortality, yet this data shows an increase in infant death by botulism. \n",
    "\n",
    "Questions and additional data to compliment this notebook would include:\n",
    "\n",
    "- What is the current infant mortality rate, and how has it changed since the beginning of the available data set?\n",
    "- Could infant death by botulism have been counted as cases of SIDS or \"Cot Death\" in the past? Could a more current understanding of health and disease be able to more accurately label it as botulsim?"
   ]
  },
  {
   "cell_type": "markdown",
   "metadata": {
    "papermill": {
     "duration": 0.04621,
     "end_time": "2020-12-01T17:21:13.641975",
     "exception": false,
     "start_time": "2020-12-01T17:21:13.595765",
     "status": "completed"
    },
    "tags": []
   },
   "source": [
    "#### Botulism Deaths per Year"
   ]
  },
  {
   "cell_type": "markdown",
   "metadata": {
    "papermill": {
     "duration": 0.045397,
     "end_time": "2020-12-01T17:21:13.733382",
     "exception": false,
     "start_time": "2020-12-01T17:21:13.687985",
     "status": "completed"
    },
    "tags": []
   },
   "source": [
    "This data shows a trend of a relatively average number of deaths per year due to botulism, over the past 80 years, roughly. However, the US population has increased drastically, which doesn't change how many have died, but it changes what percent of the population has or does. \n",
    "\n",
    "Questions and additional data to compliment this notebook would include:\n",
    "\n",
    "- How has the US population changed over the course of years listed in the botulism data set?\n",
    "- What is the per capita rate of botulism death in the US during this year range? \n",
    "- Are there any external factors that could influence botulism deaths in certain years? Economic hardships, war, etc...?"
   ]
  },
  {
   "cell_type": "markdown",
   "metadata": {
    "papermill": {
     "duration": 0.046292,
     "end_time": "2020-12-01T17:21:13.825243",
     "exception": false,
     "start_time": "2020-12-01T17:21:13.778951",
     "status": "completed"
    },
    "tags": []
   },
   "source": [
    "#### Botulism by States"
   ]
  },
  {
   "cell_type": "markdown",
   "metadata": {
    "papermill": {
     "duration": 0.049933,
     "end_time": "2020-12-01T17:21:13.920533",
     "exception": false,
     "start_time": "2020-12-01T17:21:13.870600",
     "status": "completed"
    },
    "tags": []
   },
   "source": [
    "Similar to botulism deaths by year, a state with a high population would expect a higher number of deaths without necessarily being an outlier. Furthermore, as shown by this notebook, some states (in particular, California) have much better records of the number of botulism deaths, whereas other states have little data to show. \n",
    "\n",
    "Questions and additional data to compliment this notebook would include:\n",
    "- What is the \"death rate\" of each state (number of deaths per year divided by the population), and how does the number of botulism deaths compare to each state's rate?\n",
    "- Are there any external factors that could influence the rates of botulism? Poverty, lack of fresh food, harsh weather, etc...?"
   ]
  },
  {
   "cell_type": "code",
   "execution_count": null,
   "metadata": {
    "papermill": {
     "duration": 0.05632,
     "end_time": "2020-12-01T17:21:14.048230",
     "exception": false,
     "start_time": "2020-12-01T17:21:13.991910",
     "status": "completed"
    },
    "tags": []
   },
   "outputs": [],
   "source": []
  }
 ],
 "metadata": {
  "kernelspec": {
   "display_name": "Python 3",
   "language": "python",
   "name": "python3"
  },
  "language_info": {
   "codemirror_mode": {
    "name": "ipython",
    "version": 3
   },
   "file_extension": ".py",
   "mimetype": "text/x-python",
   "name": "python",
   "nbconvert_exporter": "python",
   "pygments_lexer": "ipython3",
   "version": "3.7.6"
  },
  "papermill": {
   "duration": 11.489047,
   "end_time": "2020-12-01T17:21:14.208590",
   "environment_variables": {},
   "exception": null,
   "input_path": "__notebook__.ipynb",
   "output_path": "__notebook__.ipynb",
   "parameters": {},
   "start_time": "2020-12-01T17:21:02.719543",
   "version": "2.1.0"
  }
 },
 "nbformat": 4,
 "nbformat_minor": 4
}
